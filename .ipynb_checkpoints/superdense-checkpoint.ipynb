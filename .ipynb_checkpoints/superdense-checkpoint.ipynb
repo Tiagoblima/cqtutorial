{
 "cells": [
  {
   "cell_type": "markdown",
   "metadata": {},
   "source": [
    "# Superdense\n",
    "\n",
    "**Definição:** Dense code usa um qubit compartilhado com um pars EPR para decondificar e transmitir dois bits clássicos.\n",
    "\n",
    "\n"
   ]
  },
  {
   "cell_type": "markdown",
   "metadata": {},
   "source": [
    " *Obs.:* EPR ou  Einstein–Podolsky–Rosen paradox (EPR paradox) é um paradoxo que avalia que em certas circunstancias a medição do estado de A pode determinar com um precisão arbritária o estado de outro qubit B, mesmo a longas distâncias desde que estejam emaranhados.<br> Fonte: https://phys.org/news/2018-04-einstein-podolsky-rosen-paradox-many-particle.html"
   ]
  },
  {
   "cell_type": "markdown",
   "metadata": {},
   "source": [
    "### Como funciona?\n",
    "\n",
    "Agora iremos supor que Alice e Bob querem se comunicar e que Alice tem o primeiro qubit e Bob o segundo.\n",
    "\n",
    "<br>1.Inicialmente irimos ter dois bits emaranhados:\n",
    "\n",
    "$|\\psi_0\\rangle = \\frac{1}{\\sqrt{2}}(|0_A0_B\\rangle + |1_A1_B)$\n",
    "\n",
    "Sabendo disso, devemos ter em mente que Alice só pode transforma o qubit dela e Bob só poderá transformar o qubit dele. Isso poderá ser feito da seguinte forma: Se alice tem n qubits e Bob m qubits, temos que a transformação realizada por alice será $I^{m}\\otimes U$, onde U é a matrix de transformação para n qubits, enquanto a de Bob $I^n\\otimes U$ onde U é a matrix de transformação para m qubits."
   ]
  },
  {
   "cell_type": "markdown",
   "metadata": {},
   "source": [
    "### O que é feito?\n",
    "\n",
    "\n",
    "Alice que transmiti dois bits que representam valores entre 0 e 3 para isso ele realiza uma transformação no seu qubit $|\\psi_0\\rangle$.\n",
    "\n",
    "Valor______Transformação_______Novo Estado\n",
    "<br>\n",
    "\n",
    "\n",
    "0 || $|\\psi_0\\rangle = (I\\otimes I)|\\psi_0\\rangle$   ||  $\\frac{1}{\\sqrt{2}}(|00\\rangle + |11\\rangle)$ <br>\n",
    "1 || $|\\psi_0\\rangle = (X \\otimes I)|\\psi_0\\rangle$  ||  $\\frac{1}{\\sqrt{2}}(|10\\rangle - |01\\rangle)$  <br>\n",
    "2 || $|\\psi_0\\rangle = (Z \\otimes I)|\\psi_0\\rangle$  ||  $\\frac{1}{\\sqrt{2}}(|00\\rangle - |11\\rangle)$  <br>\n",
    "3 || $|\\psi_0\\rangle = (Y\\otimes I)|\\psi_0\\rangle$   ||  $\\frac{1}{\\sqrt{2}}(-|10\\rangle + |01\\rangle)$ <br>\n",
    "\n",
    "Depois disso Bob usa C_not e nos dois bits emaranhados e depois apliaca Hadamard: \n",
    "<br>\n",
    "$ \\begin{cases}\n",
    "\\frac{1}{\\sqrt{2}}(|00\\rangle + |11\\rangle) \\\\\n",
    "\\frac{1}{\\sqrt{2}}(|10\\rangle - |01\\rangle) \\\\   \n",
    "\\frac{1}{\\sqrt{2}}(|00\\rangle - |11\\rangle) \\\\ \n",
    "\\frac{1}{\\sqrt{2}}(-|10\\rangle + |01\\rangle) \\\\  \n",
    "\\end{cases} $\n",
    "\n",
    "$C_not$\n",
    "$\\rightarrow$\n",
    "\n",
    "$ \\begin{cases}\n",
    "\\frac{1}{\\sqrt{2}}(|00\\rangle + |10\\rangle) \\\\\n",
    "\\frac{1}{\\sqrt{2}}(|11\\rangle - |01\\rangle) \\\\ \n",
    "\\frac{1}{\\sqrt{2}}(|00\\rangle - |10\\rangle) \\\\ \n",
    "\\frac{1}{\\sqrt{2}}(-|11\\rangle + |01\\rangle) \\\\  \n",
    "\\end{cases} $\n",
    "=\n",
    "$ \\begin{cases}\n",
    "\\frac{1}{\\sqrt{2}}(|0\\rangle + |1\\rangle)\\otimes|0\\rangle \\\\\n",
    "\\frac{1}{\\sqrt{2}}(|1\\rangle - |0\\rangle)\\otimes|1\\rangle \\\\ \n",
    "\\frac{1}{\\sqrt{2}}(|0\\rangle - |1\\rangle)\\otimes|0\\rangle \\\\ \n",
    "\\frac{1}{\\sqrt{2}}(-|1\\rangle + |0\\rangle)\\otimes|1\\rangle \\\\  \n",
    "\\end{cases} $\n",
    "\n",
    "$H\\otimes I$ \n",
    "$\\rightarrow$\n",
    "\n",
    "$ \\begin{cases}\n",
    " |00\\rangle \\\\\n",
    " |01\\rangle \\\\ \n",
    " |10\\rangle \\\\ \n",
    " |11\\rangle \\\\  \n",
    "\\end{cases} $\n",
    "\n",
    "\n",
    "Ao final do processo Bob terá os mesmo bits que foram enviados por Alice."
   ]
  },
  {
   "cell_type": "markdown",
   "metadata": {},
   "source": [
    "### Exemplo: Supondo que o bit represente o valor 1"
   ]
  },
  {
   "cell_type": "code",
   "execution_count": 11,
   "metadata": {},
   "outputs": [],
   "source": [
    "import qiskit as qkit \n",
    "import time\n",
    "from qiskit import Aer\n",
    "from qiskit.tools.visualization import circuit_drawer\n",
    "from qiskit.tools.visualization import plot_histogram\n"
   ]
  },
  {
   "cell_type": "markdown",
   "metadata": {},
   "source": [
    "Iniciando os registradores quânticos e clássicos"
   ]
  },
  {
   "cell_type": "code",
   "execution_count": 12,
   "metadata": {},
   "outputs": [],
   "source": [
    "rq = qkit.QuantumRegister(size=2)\n",
    "rc = qkit.ClassicalRegister(size=2)"
   ]
  },
  {
   "cell_type": "code",
   "execution_count": 13,
   "metadata": {},
   "outputs": [
    {
     "data": {
      "image/png": "[encoded data removed]",
      "text/plain": [
       "<PIL.Image.Image image mode=RGB size=545x182 at 0x2592C97C748>"
      ]
     },
     "execution_count": 13,
     "metadata": {},
     "output_type": "execute_result"
    }
   ],
   "source": [
    "superdense = qkit.QuantumCircuit(rq, rc)\n",
    "\n",
    "\n",
    "superdense.h(rq[0])\n",
    "superdense.cx(rq[0], rq[1])\n",
    "\n",
    "superdense.x(rq[0])\n",
    "\n",
    "superdense.cx(rq[0], rq[1])\n",
    "superdense.h(rq[0])\n",
    "superdense.measure(rq[0], rc[0])\n",
    "superdense.measure(rq[1], rc[1])\n",
    "circuit_drawer(superdense)\n"
   ]
  },
  {
   "cell_type": "code",
   "execution_count": 14,
   "metadata": {},
   "outputs": [
    {
     "ename": "NameError",
     "evalue": "name 'teleport' is not defined",
     "output_type": "error",
     "traceback": [
      "\u001b[1;31m---------------------------------------------------------------------------\u001b[0m",
      "\u001b[1;31mNameError\u001b[0m                                 Traceback (most recent call last)",
      "\u001b[1;32m<ipython-input-14-14fa3ef22bd5>\u001b[0m in \u001b[0;36m<module>\u001b[1;34m()\u001b[0m\n\u001b[0;32m      1\u001b[0m \u001b[1;33m\u001b[0m\u001b[0m\n\u001b[0;32m      2\u001b[0m \u001b[0mshots\u001b[0m \u001b[1;33m=\u001b[0m \u001b[1;36m50\u001b[0m\u001b[1;33m\u001b[0m\u001b[0m\n\u001b[1;32m----> 3\u001b[1;33m \u001b[0mjob\u001b[0m \u001b[1;33m=\u001b[0m \u001b[0mqkit\u001b[0m\u001b[1;33m.\u001b[0m\u001b[0mexecute\u001b[0m\u001b[1;33m(\u001b[0m\u001b[0mteleport\u001b[0m\u001b[1;33m,\u001b[0m \u001b[0mbackend\u001b[0m\u001b[1;33m=\u001b[0m \u001b[0mAer\u001b[0m\u001b[1;33m.\u001b[0m\u001b[0mget_backend\u001b[0m\u001b[1;33m(\u001b[0m\u001b[1;34m\"qasm_simulator_py\"\u001b[0m\u001b[1;33m)\u001b[0m\u001b[1;33m,\u001b[0m \u001b[0mshots\u001b[0m\u001b[1;33m=\u001b[0m\u001b[0mshots\u001b[0m\u001b[1;33m)\u001b[0m\u001b[1;33m\u001b[0m\u001b[0m\n\u001b[0m\u001b[0;32m      4\u001b[0m \u001b[0mk\u001b[0m \u001b[1;33m=\u001b[0m\u001b[1;36m0\u001b[0m\u001b[1;33m\u001b[0m\u001b[0m\n\u001b[0;32m      5\u001b[0m \u001b[0mwait_time\u001b[0m \u001b[1;33m=\u001b[0m \u001b[1;36m1\u001b[0m\u001b[1;33m\u001b[0m\u001b[0m\n",
      "\u001b[1;31mNameError\u001b[0m: name 'teleport' is not defined"
     ]
    }
   ],
   "source": [
    "\n",
    "shots = 50\n",
    "job = qkit.execute(teleport, backend= Aer.get_backend(\"qasm_simulator_py\"), shots=shots)\n",
    "k =0 \n",
    "wait_time = 1 \n",
    "while k < shots:\n",
    "    print(job.status)\n",
    "    print(\"Faltam {0} segundos\".format(k))\n",
    "    k = k + wait_time\n",
    "    time.sleep(wait_time)\n",
    "    \n",
    "results_sim = job.result()\n",
    "outputs_sim = results_sim.get_counts()\n",
    "\n",
    "plot_histogram(outputs_sim)"
   ]
  }
 ],
 "metadata": {
  "kernelspec": {
   "display_name": "Python 3",
   "language": "python",
   "name": "python3"
  },
  "language_info": {
   "codemirror_mode": {
    "name": "ipython",
    "version": 3
   },
   "file_extension": ".py",
   "mimetype": "text/x-python",
   "name": "python",
   "nbconvert_exporter": "python",
   "pygments_lexer": "ipython3",
   "version": "3.6.5"
  }
 },
 "nbformat": 4,
 "nbformat_minor": 2
}
