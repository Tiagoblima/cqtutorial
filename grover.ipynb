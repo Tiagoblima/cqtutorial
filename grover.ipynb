{
 "cells": [
  {
   "cell_type": "code",
   "execution_count": 111,
   "metadata": {},
   "outputs": [],
   "source": [
    "%matplotlib inline\n",
    "# Importing standard Qiskit libraries and configuring account\n",
    "from qiskit import QuantumRegister, ClassicalRegister\n",
    "from qiskit import QuantumCircuit, execute, Aer, IBMQ\n",
    "from qiskit.compiler import transpile, assemble\n",
    "from qiskit.tools.jupyter import *\n",
    "from qiskit.visualization import *\n",
    "# Loading your IBM Q account(s)\n",
    "provider = IBMQ.load_account()"
   ]
  },
  {
   "cell_type": "markdown",
   "metadata": {},
   "source": [
    "## Aplicação do algoritmo"
   ]
  },
  {
   "cell_type": "markdown",
   "metadata": {},
   "source": [
    "# Antes de começarmos\n",
    "\n",
    "Antes de darmos início ao algoritmo precisamos considerar o que queremos buscar.\n",
    "\n",
    "No nosso exemplo iremos considerar o vetor $v$ tal que$ v = [ 66, 57, 67, 68 ]$. Agora vamos assumir \n",
    "queremos encontrar o valor 67 que entre os indíces 0 - 3 está na posição 2.\n",
    "\n",
    "  A parti de agora vamos considerar os indíces do vetor e não mais os valores em si. Transformando os indíces em binário teremos um vetor $v'$ tal que $v' = [ 00, 01, 10, 11 ]$. E queremos portanto o indíce 10 (2). \n",
    "  \n",
    "Tendo isso em mente devemos desenvolver uma função $f$ que irá \"marcar\" o indíce que nós estamos buscando retornando o 1 se o valor do indíce corresponde ao valor buscado e 0 caso contrário. Portanto a função terá o seguinte comportamento:\n",
    "\n",
    "**Função:**\n",
    "\n",
    "<p>$f(00) \\rightarrow 0$    |   $f(10)  \\rightarrow 1$ </p> \n",
    "<p> $f(01)  \\rightarrow 0$  |   $f(11)  \\rightarrow 0$</p>\n",
    "\n",
    "**Assim ao implementarmos teremos o seguinte comportamento:**\n",
    "\n",
    "<p>$|00, 0 \\oplus f(00)\\rangle$   $\\rightarrow$  $|00,0\\rangle$ |  \n",
    "    $|01, 0 \\oplus f(10)\\rangle$  $\\rightarrow$   $|01, 0\\rangle$</p> \n",
    "<p>$|10, 0 \\oplus f(10)\\rangle$   $\\rightarrow$   $|10,1\\rangle$ |  \n",
    "    $|11, 0 \\oplus f(11)\\rangle$  $\\rightarrow$   $|11, 0\\rangle$</p> \n",
    "\n",
    "*Obs.: $\\oplus$ é a soma modulo 2.*\n",
    "\n",
    "Dessa forma quando a função retornar 1 o último qubit mudara de 0 para 1. Um outra foram de implementarmos isso é cosiderando o último qubit como $\\frac{|0\\rangle - |1\\rangle}{\\sqrt{2}}$ e assim quando a função retornar um o sinal será mudado, isso pode ser representado da seguinte forma:\n",
    "$$                                                                 O\n",
    "|x\\rangle \\Big(\\frac{|0\\rangle - |1\\rangle}{\\sqrt{2}} \\Big)  \\rightarrow (-1)^{f(x)}|x\\rangle \\Big(\\frac{|0\\rangle - |1\\rangle}{\\sqrt{2}} \\Big)  \n",
    "$$\n"
   ]
  },
  {
   "cell_type": "markdown",
   "metadata": {},
   "source": [
    "\n",
    "## Implementando a função (Oracle)\n",
    "\n",
    "A função pode ser implementada com um portão Not e Toffoli como mostrado abaixo:\n",
    "\n"
   ]
  },
  {
   "cell_type": "code",
   "execution_count": 112,
   "metadata": {},
   "outputs": [
    {
     "data": {
      "image/png": "[encoded data removed]",
      "text/plain": [
       "<Figure size 301x198.66 with 1 Axes>"
      ]
     },
     "execution_count": 112,
     "metadata": {},
     "output_type": "execute_result"
    }
   ],
   "source": [
    "qub = QuantumRegister(3)\n",
    "function = QuantumCircuit(qub)\n",
    "\n",
    "#--- Função ---\n",
    "function.x(qub[1])\n",
    "function.ccx(qub[0], qub[1], qub[2])\n",
    "\n",
    "function.draw()\n",
    "\n"
   ]
  },
  {
   "cell_type": "markdown",
   "metadata": {},
   "source": [
    "# Implementando o Algoritmo de Grover"
   ]
  },
  {
   "cell_type": "markdown",
   "metadata": {},
   "source": [
    "Agora que temos todas informações necessárias podemos de fato parti para implementação do algoritmo <br> que pode ser separado nós seguintes passos:\n"
   ]
  },
  {
   "cell_type": "markdown",
   "metadata": {},
   "source": [
    "## Passo 1\n",
    "\n",
    "  Nossa aplicação utilizará um vetor com 4 indices ou seja $N = 2^2$ \n",
    "  o que significa 2 qubits. Portanto o algoritmo inicial com $|0\\rangle^2$\n",
    "  e um qubit auxiliar para aplicação da nossa função (Oracle).\n",
    "  Como o mostrado abaixo:"
   ]
  },
  {
   "cell_type": "code",
   "execution_count": 113,
   "metadata": {},
   "outputs": [],
   "source": [
    "qr = QuantumRegister(3)\n",
    "cr = ClassicalRegister(3)\n",
    "grover = QuantumCircuit(qr, cr)"
   ]
  },
  {
   "cell_type": "markdown",
   "metadata": {},
   "source": [
    "## Passo 2\n",
    "\n",
    "Nós utilizamos o Hadamard para computar as superposições.\n",
    "\n",
    "$|\\psi\\rangle = \\frac{1}{\\sqrt{N}} \\sum_{x=0}^{N-1}|x\\rangle \\Big(\\frac{|0\\rangle - |1\\rangle}{\\sqrt{2}} \\Big)$"
   ]
  },
  {
   "cell_type": "code",
   "execution_count": 114,
   "metadata": {},
   "outputs": [
    {
     "data": {
      "text/plain": [
       "<qiskit.extensions.standard.h.HGate at 0x7fc2713b8ac8>"
      ]
     },
     "execution_count": 114,
     "metadata": {},
     "output_type": "execute_result"
    }
   ],
   "source": [
    "#-- indíces --\n",
    "grover.h(qr[0])\n",
    "grover.h(qr[1])\n",
    "\n",
    "#---qubit auxiliar ----\n",
    "grover.x(qr[2])\n",
    "grover.h(qr[2])\n"
   ]
  },
  {
   "cell_type": "markdown",
   "metadata": {},
   "source": [
    "## Passo 3\n",
    "\n",
    "O passo três pode ser quebrado em 4 subpassos <br>\n",
    "e é onde o algoritmo de fato começa <br>\n",
    "\n",
    "1) Aplicar o oracle *O* <br>\n",
    "2) Aplicar a transformação de $H^n$ de Hadamard <br>\n",
    "3) Aplicar a mudança condicional de fase <br>\n",
    "para todas as bases computacionais execeto para $|0\\rangle$ recebendo a fase de -1 <br>\n",
    "$|x\\rangle \\rightarrow -(-1)^{\\delta_x0}|x\\rangle$ <br>\n",
    "4) Aplicar a transformação de $H^n$ de Hadamard novamente<br>"
   ]
  },
  {
   "cell_type": "markdown",
   "metadata": {},
   "source": [
    "## Aplicando do nosso oracle\n",
    "\n",
    "Como vimos anteriormente nós precisamos criar um circuito que implementasse<br>\n",
    "nossa função (Oracle) e dessa forma sermos capazes de \"marcar\" o indíce que buscamos<br>\n",
    "que nesse caso é 2 ou 10.<br>\n",
    "\n",
    "**Subpasso 1**\n",
    "\n"
   ]
  },
  {
   "cell_type": "code",
   "execution_count": 115,
   "metadata": {},
   "outputs": [
    {
     "data": {
      "text/plain": [
       "<qiskit.extensions.standard.ccx.ToffoliGate at 0x7fc2715fff98>"
      ]
     },
     "execution_count": 115,
     "metadata": {},
     "output_type": "execute_result"
    }
   ],
   "source": [
    "#--- Função ---\n",
    "grover.x(qr[1])\n",
    "grover.ccx(qr[0], qr[1], qr[2])"
   ]
  },
  {
   "cell_type": "markdown",
   "metadata": {},
   "source": [
    "\n",
    "\n",
    "Agora aplicaremos a transformação de Hadamard \n",
    "\n",
    "**Subpasso 2**\n",
    "\n"
   ]
  },
  {
   "cell_type": "code",
   "execution_count": 116,
   "metadata": {},
   "outputs": [
    {
     "data": {
      "text/plain": [
       "<qiskit.extensions.standard.h.HGate at 0x7fc271414a20>"
      ]
     },
     "execution_count": 116,
     "metadata": {},
     "output_type": "execute_result"
    }
   ],
   "source": [
    "grover.h(qr[0])\n",
    "grover.h(qr[1])"
   ]
  },
  {
   "cell_type": "markdown",
   "metadata": {},
   "source": [
    "Realizando o próximo passo realizaremos a mudança condicional<br>\n",
    "de fase para cada base computacional onde $|0\\rangle$.<br>\n",
    "\n",
    "**Subpasso 3**\n"
   ]
  },
  {
   "cell_type": "code",
   "execution_count": 117,
   "metadata": {},
   "outputs": [
    {
     "data": {
      "text/plain": [
       "<qiskit.extensions.standard.x.XGate at 0x7fc2714055c0>"
      ]
     },
     "execution_count": 117,
     "metadata": {},
     "output_type": "execute_result"
    }
   ],
   "source": [
    "\n",
    "grover.x(qr[0])\n",
    "grover.x(qr[1])\n",
    "grover.h(qr[1])\n",
    "\n",
    "grover.cx(qr[0], qr[1])\n",
    "\n",
    "grover.h(qr[1])\n",
    "grover.x(qr[0])\n",
    "grover.x(qr[1])\n",
    "\n"
   ]
  },
  {
   "cell_type": "markdown",
   "metadata": {},
   "source": [
    "\n",
    "Agora aplicaremos a transformação de Hadamard novamente\n",
    "\n",
    "**Subpasso 4**\n"
   ]
  },
  {
   "cell_type": "code",
   "execution_count": 118,
   "metadata": {},
   "outputs": [
    {
     "data": {
      "text/plain": [
       "<qiskit.extensions.standard.h.HGate at 0x7fc2714142e8>"
      ]
     },
     "execution_count": 118,
     "metadata": {},
     "output_type": "execute_result"
    }
   ],
   "source": [
    "grover.h(qr[0])\n",
    "grover.h(qr[1])\n",
    "grover.h(qr[2])"
   ]
  },
  {
   "cell_type": "markdown",
   "metadata": {},
   "source": [
    "## Passo 3\n",
    "\n",
    "Como foram necessárias apenas 1 interação podemos vamos fazer a medição e o valor <br>\n",
    "obtido deve ser o indíce que nós buscamos que nesse caso é 10 (2)."
   ]
  },
  {
   "cell_type": "code",
   "execution_count": 119,
   "metadata": {},
   "outputs": [
    {
     "data": {
      "image/png": "[encoded data removed]",
      "text/plain": [
       "<Figure size 1083.6x379.26 with 1 Axes>"
      ]
     },
     "execution_count": 119,
     "metadata": {},
     "output_type": "execute_result"
    }
   ],
   "source": [
    "grover.measure(qr, cr)\n",
    "grover.draw()"
   ]
  },
  {
   "cell_type": "code",
   "execution_count": 121,
   "metadata": {},
   "outputs": [
    {
     "data": {
      "image/png": "[encoded data removed]",
      "text/plain": [
       "<Figure size 504x360 with 1 Axes>"
      ]
     },
     "execution_count": 121,
     "metadata": {},
     "output_type": "execute_result"
    }
   ],
   "source": [
    "# Select the QasmSimulator from the Aer provider\n",
    "simulator = Aer.get_backend('qasm_simulator')\n",
    "\n",
    "# Execute and get counts\n",
    "result = execute(grover, simulator).result()\n",
    "counts = result.get_counts(grover)\n",
    "plot_histogram(counts, title='O indíce procurado')"
   ]
  },
  {
   "cell_type": "code",
   "execution_count": null,
   "metadata": {},
   "outputs": [],
   "source": []
  }
 ],
 "metadata": {
  "kernelspec": {
   "display_name": "Python 3",
   "language": "python",
   "name": "python3"
  },
  "language_info": {
   "codemirror_mode": {
    "name": "ipython",
    "version": 3
   },
   "file_extension": ".py",
   "mimetype": "text/x-python",
   "name": "python",
   "nbconvert_exporter": "python",
   "pygments_lexer": "ipython3",
   "version": "3.7.3"
  }
 },
 "nbformat": 4,
 "nbformat_minor": 2
}
