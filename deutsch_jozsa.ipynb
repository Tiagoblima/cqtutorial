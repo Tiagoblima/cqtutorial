{
 "cells": [
  {
   "cell_type": "markdown",
   "metadata": {
    "colab_type": "text",
    "id": "Wyq5GSe00-zz"
   },
   "source": [
    "\n",
    "# Problema de Deutch e Deutsch-Jozsa\n",
    "\n",
    "## Observação dos autores\n",
    "\n",
    "É fato que a melhor forma de aprender qualquer assunto técnico que envolva bastante conceitos matemáticos se dá por meio da prática. Desse modo, aconselhamos ao leitor a refazer os cálculos e verificar as equações aqui mostradas para melhor absorção do conteúdo.\n",
    "\n",
    "### Cronograma\n",
    "- Antes de comecarmos\n",
    "- Paralelismo Quântico\n",
    "- Problema de Deutch\n",
    "- Porta Hadamard para N qubits\n",
    "- Problema de Deutch-Jozsa\n"
   ]
  },
  {
   "cell_type": "markdown",
   "metadata": {
    "colab_type": "text",
    "id": "qez2OAF20-z1"
   },
   "source": [
    "# Antes de começarmos\n",
    "\n",
    "  Uma das principais vantagens de se utilizar um computador quântico é a possibilidade de utilizarmos *paralelismo quântico* para computarmos diferentes entradas simultaneamente.\n",
    "\n",
    "Porém você deve estar se perguntando **\"Paralelismo quântico?\" \"O que é isso?\"**\n",
    "\n",
    "Para entendermos esse conceito precisamos ter em mente as seguintes definições:\n",
    "\n",
    " - O que é um bit quântico ou qubit e como ele pode assumir dois estados ao mesmo tempo, o que é chamado de  superposição. \n",
    "\n",
    " - Você também já deve saber que sistemas com múltiplos qubits tem o poder de representar um número exponencialmente grande de estados.\n",
    "\n"
   ]
  },
  {
   "cell_type": "markdown",
   "metadata": {
    "colab_type": "text",
    "id": "7OchLNAJ0-z2"
   },
   "source": [
    "\n",
    "## Avaliando uma função\n",
    "\n",
    "  Suponha que temos uma função $f$ cujo mapeamento é $f:\\{0,1\\}\\mapsto \\{0,1\\}$. Como descobrir a propriedade global do mapeamento desta função aplicando-a sobre a entrada apenas uma vez? \n",
    "\n",
    "Em um computador quântico este problema seria solucionado utilizando o então chamado paralelismo quântico. Em um sistema quântico, este problema pode ser dividido em dois registradores quânticos, um para a entrada e outro auxiliar (ancilla), cujos propósitos você poderá ver posteriormente.\n",
    "\n",
    "   Nossa função pode ser vista como uma transformação linear que leva os qubits do estado $|x\\rangle|y\\rangle$ para o estado $|x\\rangle|y \\oplus f(x) \\rangle$, onde os estados $|x\\rangle$ e $|y\\rangle$ são a entrada e a ancilla respectivamente e $\\oplus$ trata-se do ou-exclusivo (ou XOR). \n",
    "   \n",
    "   Nós podemos representar nossa transformação linear por sua respectiva matriz de transformação e dessa forma obtermos um operator quântico válido, considerando que essa matriz é unitária. Logo de forma geral a aplicação da função terá o seguinte comportamento:  \n",
    "\n",
    "$U_f|x\\rangle|y\\rangle = |x\\rangle|y \\oplus f(x) \\rangle$\n",
    "   \n",
    "   Onde $U_f$ nada mais é que a matriz de transformação linear, os estados $|x\\rangle$ e $|y\\rangle$ são a entrada e a ancilla respectivamente e $\\oplus$ trata-se do ou-exclusivo (ou XOR). \n",
    "    "
   ]
  },
  {
   "cell_type": "markdown",
   "metadata": {
    "colab_type": "text",
    "id": "ZQX9PXmv0-z2"
   },
   "source": [
    "# Problema de Deutsch\n",
    "\n",
    "Agora que temos um noção do comportamento de $U_f$ e como podemos obtê-lo podemos falar do problema de Deutsch.\n",
    "\n",
    "O problema de Deutsch consiste em descobrir se uma determinada função binárias com duas possíveis entradas é constante ou balanceada. Na computação clássica seria necessário testarmos metade mais um de todas as entradas. Nesse caso seria necessário testarmos apenas uma vez, porém como veremos na frente no problema de Deutsch-Jozsa essa entrada pode ser muito maior, o que teria um custo exponencial de $2^{n-1} + 1$, onde n é tamanho da entrada.\n",
    "\n",
    "### Conceitos Iniciais:\n",
    "\n",
    "Uma dada função binária é chamada de constante quando todas as suas entradas têm uma mesma saída, por outro lado a função é chamada de balanceada se metade das saídas produzidas tem um valor e a outra metade o outro.\n",
    "\n",
    "### Como o algoritmo funciona:\n",
    "\n",
    "Agora que sabemos o que é uma função constante ou balanceada, podemos então podemos seguir para a pergunta de como descobrir se uma função binária $f:\\{ 0, 1\\} \\rightarrow \\{ 0, 1\\}$ tem todas as saídas iguais ou metade das saídas é uma saída e metade a outra. Nesse caso, isso se resumiria a se para ambos os valores $0$ e $1$ a mesma mapeia para um valor igual, ou seja $f(0)=f(1)$, ou para cada valor existe um mapeamento diferente, ou $f(0)\\neq f(1)$.\n",
    "\n",
    "Para isso iremos utilizar o conceito aprensetado anteriormente em que nós permite avaliarmos uma função, onde nossa função é vista como uma transformação linear que leva os qubits do estado $|x\\rangle|y\\rangle$ para o estado  $|x\\rangle|y\\oplus f(x)\\rangle$ onde $x$ é a entrada e $y$ é a ancilla. \n",
    "\n",
    "Tendo isso em mente, podemos identificar se uma função é constante se quando fizermos a medição o valor for zero com 100% de certeza e balanceada se a medição for algo diferente.\n",
    "\n",
    "\n",
    "\n"
   ]
  },
  {
   "cell_type": "markdown",
   "metadata": {
    "colab_type": "text",
    "id": "WIZ35iPF0-z3"
   },
   "source": [
    "**Antes de seguirmos para nosso exemplo:**\n",
    "\n",
    "É importante notar que nós podemos mudar o estado do ancilla qubit de modo que o resultado da função seja representado por uma mudança no sinal do estado. Dessa forma, se mudarmos do nosso ancilla qubit de $|0\\rangle$  para o estado $|1\\rangle$ e em seguida aplicarmos a operação Hadamard iremos obter o seguinte estado:\n",
    "\n",
    "\n",
    "$$\\frac{|0\\rangle - |1\\rangle}{\\sqrt{2}}$$\n",
    "\n",
    "\n",
    "Agora se a função retornar 0 o estado irá permanecer o mesmo, porém se ela retornar 1 os estados $\\frac{|0\\rangle - |1\\rangle}{\\sqrt{2}}$ terão os sinais trocados. Assim a aplicação da função pode ser vista como sendo: \n",
    "\n",
    "$$(-1)^{f(x)}\\left(\\frac{|0\\rangle - |1\\rangle}{\\sqrt{2}}\\right)$$"
   ]
  },
  {
   "cell_type": "markdown",
   "metadata": {
    "colab_type": "text",
    "id": "6ssJ068G0-z4"
   },
   "source": [
    "\n",
    "### Exemplo Teórico (1):\n",
    "\n",
    "Agora que entendemos alguns conceitos básicos podemos dar início ao um exemplo. ]\n",
    "\n",
    "Suponha que temos uma função $f$ em que $f(0) = 0$ e $f(1) = 1$ que claramente esse é uma função balanceada.\n",
    "\n",
    "Sabendo disso, nós podemos criar um circuito quântico que avalie a nossa função. Esse circuito pode ser separado em alguns estados que aqui serão representados por $|\\psi_i\\rangle$. Sendo assim, podemos seguir adiante com o seguintes passos:\n",
    "\n",
    "#### 1º Passo:\n",
    "\n",
    "Nós incializamos dois qubits um para a nossa entrada e outro para ser nosso ancilla.\n",
    "\n",
    "$|\\psi_0\\rangle = |0\\rangle|0\\rangle$\n",
    "\n",
    "$|\\psi_1\\rangle = |0\\rangle X|0\\rangle$\n",
    "\n",
    "$|\\psi_1\\rangle = |0\\rangle|1\\rangle$\n",
    "\n",
    "#### 2º Passo:\n",
    "\n",
    "Agora sabendo disso aplicaremos o operador X (Not) para mudar o estado do ancilla qubit e em \n",
    "seguida iremos aplicar o operador H (Hadamard) em ambos os estados.\n",
    "\n",
    "$|\\psi_2\\rangle = H|0\\rangle H|1\\rangle$\n",
    "\n",
    "$|\\psi_3\\rangle = \\frac{1}{2}\\left(|0\\rangle + |1\\rangle\\right)\\left(|0\\rangle - |1\\rangle\\right)$\n",
    "\n",
    "$|\\psi_3\\rangle = \\frac{1}{2}\\left(|00\\rangle - |01\\rangle + |10\\rangle - |11\\rangle\\right)$\n",
    "\n",
    "\n",
    "#### 3º Passo:\n",
    "\n",
    "Aplicamos a função através do operador $U_f$ que no nosso caso pode ser representado pelo operador C-Not\n",
    "\n",
    "\n",
    "$|\\psi_4\\rangle = U_f\\frac{1}{2}\\left(|00\\rangle - |01\\rangle + |10\\rangle - |11\\rangle\\right)$\n",
    "\n",
    "$|\\psi_4\\rangle = \\left(\\frac{|0\\rangle - |1\\rangle}{\\sqrt{2}}\\right)\\left(\\frac{|0\\rangle - |1\\rangle}{\\sqrt{2}}\\right)$\n",
    "\n",
    "\n",
    "#### 4º Passo:\n",
    "\n",
    "Agora basta aplicarmos o Hadarmad ao estado atual \n",
    "\n",
    "$|\\psi_5\\rangle = H\\left(\\frac{|0\\rangle - |1\\rangle}{\\sqrt{2}}\\right)H\\left(\\frac{|0\\rangle - |1\\rangle}{\\sqrt{2}}\\right)$\n",
    "\n",
    "\n",
    "$|\\psi_5\\rangle = |1\\rangle|1\\rangle$\n",
    "\n",
    "\n",
    "#### 5º Passo\n",
    "\n",
    "Agora nós podemos fazer a medição do nosso sistema representado por $|\\psi_5\\rangle$. \n",
    "\n",
    "Podemos percebe que quando medirmos o nós iremos obter ambos os estados $|11\\rangle$ com probabilidade de \n",
    "$100\\%$ mostrando que nossa função é balanceada. \n"
   ]
  },
  {
   "cell_type": "markdown",
   "metadata": {
    "colab_type": "text",
    "id": "k0hAHaBl0-z5"
   },
   "source": [
    "## Porta Hadamard para N qubits\n",
    "\n",
    "Antes de prosseguir para o algoritmo de Deutch-Jozsa é necessário verificar o caso da porta Hadamard para $N$ qubits. Você já deve saber que para se aplicar uma mesma porta em múltiplos qubits faz-se o uso de produto tensorial. Por exemplo, Seja $M$ operador unitário qualquer $2 \\times 2$ e deseja-se aplicá-lo a todos os qubits no estado $|0\\rangle|1\\rangle|1\\rangle$. Então a aplicação de $M$ seria da seguinte forma:\n",
    "\n",
    "$$M\\otimes M \\otimes M \\left(|0\\rangle|1\\rangle|1\\rangle\\right)$$\n",
    "\n",
    "\n",
    "No caso da porta Hadamard não é diferente. Porém, para facilitar nossos cálculos (e consequentemente nossas vidas) é necessário achar um padrão de qual será o estado resultante caso aplicarmos Hadamard em um estado com múltiplos qubits. Considere o caso da porta Hadamard para ser aplicada em dois qubits:\n",
    "\n",
    "$$\\left(\\frac{1}{\\sqrt{2}} \\left[\\begin{array}{cc} 1 & 1 \\\\ 1 & -1 \\end{array}\\right]\\right) \\otimes   \\left(\\frac{1}{\\sqrt{2}}\\left[\\begin{array}{cc} 1 & 1 \\\\ 1 & -1 \\end{array}\\right]\\right) = \\frac{1}{2} \\left[\\begin{array}{cccc} 1 & 1 & 1 & 1 \\\\ 1 & -1 & 1 & -1 \\\\ 1 & 1 & -1 & -1 \\\\ 1 & -1 & -1 & 1\\end{array}\\right]$$\n",
    "\n",
    "Pode-se observar que a linha e a coluna que corresponde a o estado $|00\\rangle$ estão todas com valores $1$ positivos, mas enquanto as outras células? Para generalizar melhor a operação de uma composição de portas Hadamard é importante introduzir algumas propriedades. Primeiramente, sabe-se que $(-1)^0 = 1$ e $(-1)^1 = -1$.\n",
    "\n",
    "Neste caso as células na matriz resultante da composição de portas Hadamard podem ser resultantes de $(-1)^q$ onde o expoente $q$  pode representar uma operação binária $\\langle \\cdot,\\cdot\\rangle$. A qual efetuará o produto interno módulo $2$. Por exemplo:  Sejam $x = x_0x_1\\dots x_{N-1}$ e $y = y_0y_1\\dots y_{N-1}$ duas cadeias de bits. Então $\\langle x, y \\rangle = \\left(x_0\\dot y_0 + x_1\\dot y_1 \\dots x_{N-1}\\dot y_{N-1}\\right) mod  2$. \n",
    "\n",
    "Isso pode ser verificado na matriz resultante da composição de duas portas Hadamard. Por exemplo na última linha terceira coluna, cujas cadeias correspondentes são $11$ e $10$. Então $\\langle 11, 10 \\rangle = \\left( 1 \\dot 1 + 1 \\dot 0 \\right) mod 2 = 1 $. Portanto $(-1)^{\\langle 11, 10 \\rangle} = -1$.\n",
    "\n",
    "Toda vez que adicionarmos mais uma porta Hadamard estaremos multiplicando o coeficiente da matriz por $\\frac{1}{\\sqrt{2}}$. Sabendo disso podemos desenvolver uma fórmula geral para as combinações de $n$ portas Hadamard:\n",
    "\n",
    "$$H^{\\otimes N}\\left[i,j\\right] = \\frac{1}{\\sqrt{2^N}}(-1)^{\\langle i, j \\rangle}$$\n",
    "\n",
    "Onde $i$ e $j$ representam as strings binárias correspondentes da célula na linha $i$ e coluna $j$ na matriz $H^{\\otimes N}$."
   ]
  },
  {
   "cell_type": "markdown",
   "metadata": {
    "colab_type": "text",
    "id": "grdH81v50-z5"
   },
   "source": [
    "## Problema de Deutsch Jozsa\n",
    "\n",
    "O algoritmo de Deutch-Jozsa é uma extensão do algoritmo que apresentado por Deutch, porém considerando entradas de múltiplos qubits. Seja uma função tal que $f : \\{0,1\\}^N \\mapsto \\{0,1\\}$. A função $f$ é considerada constante se para toda entrada $x$ a mesma para um único valor do contra domínio. Em contrapartida, a mesma é considerada balanceada se para exatamente metade dos valores $x$ , $f$ mapeia para $0$ enquanto que a outra metade é mapeada para $1$. Num computador clássico, para verificar se $f$ é constante ou balanceada, seria necessário avaliar $f$ para no mínimo $\\frac{2^{N}}{2} + 1 = 2^{N-1}+1$ valores. Pra o algoritmo de Deutch-Jozsa, é possível fazer esta verificação avaliando $f$ apenas uma vez. Fazendo uso de paralelismo quântico e interferência quântica.\n",
    "\n",
    "\n",
    "Porém, antes de seguir com a explanação do algoritmo vale a pena verificar o que a contece caso apliquemos o operador $U_f$ para uma entrada $x$ com $N$ qubits. Sejam os registradores de entrada e a ancila nos estados $|x\\rangle$ e $\\frac{|0\\rangle + |1\\rangle}{\\sqrt{2}}$ respectivamente. Sendo assim a evolução do sistema ficaria da seguinte forma:\n",
    "\n",
    "$$U_f|x\\rangle\\left(\\frac{|0\\rangle - |1\\rangle}{\\sqrt{2}}\\right) = U_f \\frac{1}{\\sqrt{2}}\\left(|x\\rangle|0\\rangle - |x\\rangle|1\\rangle\\right) = \\frac{1}{\\sqrt{2}}\\left(|x\\rangle|0\\oplus f(x)\\rangle - |x\\rangle|1\\oplus f(x)\\rangle\\right)$$\n",
    "\n",
    "Desenvolvendo o último termo da igaldade ficamos com:\n",
    "$$\\frac{1}{\\sqrt{2}}\\left(|x\\rangle|f(x)\\rangle - |x\\rangle|\\tilde{f}(x)\\rangle\\right) = |x\\rangle \\left(\\frac{|f(x)\\rangle - |\\tilde{f}(x)\\rangle}{\\sqrt{2}}\\right) $$\n",
    "\n",
    "Desse modo temos que se $f(x) = 0$:\n",
    "$$ |x\\rangle \\left(\\frac{|0\\rangle - |1\\rangle}{\\sqrt{2}}\\right)$$\n",
    "\n",
    "E se $f(x) = 1$ temos:\n",
    "$$ -|x\\rangle \\left(\\frac{|0\\rangle - |1\\rangle}{\\sqrt{2}}\\right)$$\n",
    "\n",
    "Portanto, podemos concluir que:\n",
    "$$U_f|x\\rangle\\left(\\frac{|0\\rangle - |1\\rangle}{\\sqrt{2}}\\right) = (-1)^{f(x)}|x\\rangle \\left(\\frac{|0\\rangle - |1\\rangle}{\\sqrt{2}}\\right)$$\n",
    "\n",
    "Feitas nossas observações podemos continuar para o algorítmo. Primeiramente consideramos um estado com $N$ qubits setados em zero sobre os quais fora aplicada uma porta Hadamard $H^{\\otimes N}$. Dessa forma teriamos um estado em superposição: $\\sum_{x \\in \\{0,1\\}^N } \\frac{1}{\\sqrt{2^N}}|x\\rangle$. Considerando a ancila no estado $\\frac{|0\\rangle - |1\\rangle}{\\sqrt{2}}$. O estado inicial do sistema ficaria da seguinte forma:\n",
    "\n",
    "$$\\sum_{x \\in \\{0,1\\}^N } \\frac{1}{\\sqrt{2^N}}|x\\rangle\\left(\\frac{|0\\rangle - |1\\rangle}{\\sqrt{2}}\\right)$$\n",
    "\n",
    "Aplicando o operador $U_f$ no estado, o resultado fica da seguinte forma:\n",
    "$$U_f \\left[\\sum_{x \\in \\{0,1\\}^N } \\frac{1}{\\sqrt{2^N}}|x\\rangle\\left(\\frac{|0\\rangle - |1\\rangle}{\\sqrt{2}}\\right)\\right] = \\sum_{x \\in \\{0,1\\}^N } \\frac{(-1)^{f(x)}}{\\sqrt{2^N}}|x\\rangle\\left(\\frac{|0\\rangle - |1\\rangle}{\\sqrt{2}}\\right)$$\n",
    "\n",
    "O fator $\\frac{1}{\\sqrt{2^N}}$ pode ser colocado na parte mais externa e mais a esquerda do somatório sem perda de generalização. Portanto o estado ficaria como a seguir:\n",
    "\n",
    "$$ \\frac{1}{\\sqrt{2^N}}\\sum_{x \\in \\{0,1\\}^N }(-1)^{f(x)} |x\\rangle\\left(\\frac{|0\\rangle - |1\\rangle}{\\sqrt{2}}\\right)$$\n",
    "\n",
    "A etapa que faz uso de interferência quântica exigirá um pouco mais de intuição matemática do leitor. Uma dica para facilitar a compreensão é fazer o passo a passo do algoritmo para um caso reduzido. Como por exemplo a entrada $x$ com tamanho igual a $2$.\n",
    "\n",
    "A única diferença desta etapa para com a do algorítmo de Deutch é que a porta a ser aplicada no registrador da entrada é uma composição de portas Hadamard $H^{\\otimes N}$ para serem aplicadas sobre $N$ qubits. A evolução do sistema ficaria da seguinte forma:\n",
    "\n",
    "$$\\left(H^{\\otimes N} \\otimes I\\right)\\left[\\frac{1}{\\sqrt{2^N}}\\sum_{x \\in \\{0,1\\}^N }(-1)^{f(x)} |x\\rangle\\left(\\frac{|0\\rangle - |1\\rangle}{\\sqrt{2}}\\right)\\right] = \\frac{1}{\\sqrt{2^N}}\\sum_{x \\in \\{0,1\\}^N }(-1)^{f(x)} \\sum_{z \\in \\{0,1\\}^N} \\frac{(-1)^{\\langle x,z\\rangle}}{\\sqrt{2^N}}|z\\rangle \\left(\\frac{|0\\rangle - |1\\rangle}{\\sqrt{2}}\\right)$$\n",
    "\n",
    "Anteriormente foi explicada a generalização de um conjunto de portas Hadamard sendo aplicadas a $N$ qubits. Sabendo que $\\sum_{x \\in \\{0,1\\}^N } \\frac{1}{\\sqrt{2^N}}|x\\rangle$ é a superposição de todos os estados possíveis de $N$ qubits. Ao aplicar $H^{\\otimes N}$ novamente é como se estivéssemos as células de cada linha da matriz $H^{\\otimes N}$ e estivessemos fazendo um novo somatório com cada uma delas. Desenvolvendo o segundo termo da igualdade, o estado ficaria da seguinte forma:\n",
    "\n",
    "$$\\frac{1}{2^N}\\sum_{x \\in \\{0,1\\}^N }\\sum_{z \\in \\{0,1\\}^N}(-1)^{\\langle x,z\\rangle + f(x)} |z\\rangle \\left(\\frac{|0\\rangle - |1\\rangle}{\\sqrt{2}}\\right)$$\n",
    "\n",
    "A partir daqui, é preciso fazer algumas observações. Primeiramente, é possível ver que a amplitude do sistema para $z = 0$ é :\n",
    "$$\\frac{1}{2^N} \\sum_{x \\in \\{0,1\\}^{N}} (-1)^{f(x)}$$\n",
    "Tendo isso em mente, se a função for constante, o registrador de entrada retornará $|0\\rangle$ com probabilidade $1$. Enquanto que se a função for balanceada, a metade negativa do somatório anulará a metade positiva. Isso significa que o sistema retornará $|0\\rangle$ se a função for constante e qualquer outro estado caso contrário. Desse modo nós conseguimos determinar se uma função é constante ou balanceada aplicando-a no sistema apenas uma vez!"
   ]
  },
  {
   "cell_type": "markdown",
   "metadata": {
    "colab_type": "text",
    "id": "8kx_S9ma0-z6"
   },
   "source": [
    "## Exemplo na prática Algoritmo de Deutsch:\n",
    "\n",
    "#### 1º Passo:\n",
    "\n",
    "Nós incializamos dois qubits um para a nossa entrada e outro para ser nosso ancilla.\n",
    "\n",
    "$|\\psi_0\\rangle = |0\\rangle|0\\rangle$\n",
    "\n",
    "$|\\psi_1\\rangle = |0\\rangle X|0\\rangle$\n",
    "\n",
    "$|\\psi_1\\rangle = |0\\rangle|1\\rangle$\n"
   ]
  },
  {
   "cell_type": "code",
   "execution_count": 1,
   "metadata": {
    "colab": {},
    "colab_type": "code",
    "id": "G7Qi5gpI0-z7"
   },
   "outputs": [],
   "source": [
    "%matplotlib inline\n",
    "# Importing standard Qiskit libraries and configuring account\n",
    "import numpy as np\n",
    "from qiskit import QuantumRegister, ClassicalRegister\n",
    "from qiskit import QuantumCircuit, execute, Aer, IBMQ\n",
    "from qiskit.compiler import transpile, assemble\n",
    "from qiskit.tools.jupyter import *\n",
    "from qiskit.visualization import *\n",
    "# Loading your IBM Q account(s)\n",
    "#provider = IBMQ.load_account()"
   ]
  },
  {
   "cell_type": "code",
   "execution_count": 2,
   "metadata": {
    "colab": {},
    "colab_type": "code",
    "id": "f_qVgKeo0-z-"
   },
   "outputs": [
    {
     "data": {
      "text/plain": [
       "<qiskit.extensions.standard.x.XGate at 0x1ebf2aa2978>"
      ]
     },
     "execution_count": 2,
     "metadata": {},
     "output_type": "execute_result"
    }
   ],
   "source": [
    "\n",
    "from qiskit import QuantumRegister, ClassicalRegister\n",
    "from qiskit import QuantumCircuit, Aer, execute\n",
    "from qiskit.tools.visualization import plot_histogram\n",
    "\n",
    "q = QuantumRegister(2)\n",
    "c = ClassicalRegister(2)\n",
    "deutsch = QuantumCircuit(q, c)\n",
    "deutsch.x(q[1])"
   ]
  },
  {
   "cell_type": "markdown",
   "metadata": {
    "colab_type": "text",
    "id": "bVJ3nNyv0-0A"
   },
   "source": [
    "#### 2º Passo:\n",
    "\n",
    "Agora sabendo disso aplicaremos o operador X (Not) para mudar o estado do ancilla qubit e em \n",
    "seguida iremos aplicar o operador H (Hadamard) em ambos os estados.\n",
    "\n",
    "\n",
    "\n",
    "$|\\psi_2\\rangle = H|0\\rangle H|1\\rangle$\n",
    "\n",
    "$|\\psi_3\\rangle = \\frac{1}{2}\\left(|0\\rangle + |1\\rangle\\right)\\left(|0\\rangle - |1\\rangle\\right)$\n",
    "\n",
    "$|\\psi_3\\rangle = \\frac{1}{2}\\left(|00\\rangle - |01\\rangle + |10\\rangle - |11\\rangle\\right)$\n",
    "\n",
    "\n"
   ]
  },
  {
   "cell_type": "code",
   "execution_count": 3,
   "metadata": {
    "colab": {
     "base_uri": "https://localhost:8080/",
     "height": 34
    },
    "colab_type": "code",
    "id": "t9uCxnjM0-0B",
    "outputId": "2dd6dc53-579d-421f-f5f4-8b5bbbee3ab2"
   },
   "outputs": [
    {
     "data": {
      "text/plain": [
       "<qiskit.extensions.standard.h.HGate at 0x1ebf2aa26d8>"
      ]
     },
     "execution_count": 3,
     "metadata": {},
     "output_type": "execute_result"
    }
   ],
   "source": [
    "\n",
    "deutsch.barrier()\n",
    "\n",
    "deutsch.h(q[0])\n",
    "deutsch.h(q[1])"
   ]
  },
  {
   "cell_type": "markdown",
   "metadata": {
    "colab_type": "text",
    "id": "V2XfOWY90-0F"
   },
   "source": [
    "\n",
    "#### 3º Passo:\n",
    "\n",
    "Aplicamos a função através do operador $U_f$ que no nosso caso pode ser representado pelo operador C-Not\n",
    "\n",
    "\n",
    "$|\\psi_4\\rangle = U_f\\frac{1}{2}\\left(|00\\rangle - |01\\rangle + |10\\rangle - |11\\rangle\\right)$\n",
    "\n",
    "$|\\psi_4\\rangle = \\frac{1}{2}\\left(|00\\rangle - |01\\rangle - |10\\rangle + |11\\rangle\\right)$"
   ]
  },
  {
   "cell_type": "code",
   "execution_count": 4,
   "metadata": {
    "colab": {
     "base_uri": "https://localhost:8080/",
     "height": 34
    },
    "colab_type": "code",
    "id": "AuqlLDGb0-0G",
    "outputId": "6ec32032-980d-41ea-afe9-97a16caa08c0"
   },
   "outputs": [
    {
     "data": {
      "text/plain": [
       "<qiskit.extensions.standard.barrier.Barrier at 0x1ebf2aa2f28>"
      ]
     },
     "execution_count": 4,
     "metadata": {},
     "output_type": "execute_result"
    }
   ],
   "source": [
    "deutsch.barrier()\n",
    "\n",
    "deutsch.cx(q[0], q[1])\n",
    "\n",
    "deutsch.barrier()"
   ]
  },
  {
   "cell_type": "markdown",
   "metadata": {
    "colab_type": "text",
    "id": "KhBke-Ic0-0I"
   },
   "source": [
    "#### 4º Passo:\n",
    "\n",
    "Agora basta aplicarmos o Hadarmad ao estado atual \n",
    "\n",
    "$|\\psi_5\\rangle = H\\left(\\frac{|0\\rangle - |1\\rangle}{\\sqrt{2}}\\right)H\\left(\\frac{|0\\rangle - |1\\rangle}{\\sqrt{2}}\\right)$\n",
    "\n",
    "\n",
    "$|\\psi_5\\rangle = |1\\rangle|1\\rangle$\n",
    "\n"
   ]
  },
  {
   "cell_type": "code",
   "execution_count": 5,
   "metadata": {
    "colab": {
     "base_uri": "https://localhost:8080/",
     "height": 34
    },
    "colab_type": "code",
    "id": "piMOzgtC0-0J",
    "outputId": "84290b41-f4a0-4458-a2ff-5099e0117610"
   },
   "outputs": [
    {
     "data": {
      "text/plain": [
       "<qiskit.extensions.standard.h.HGate at 0x1ebf2abc390>"
      ]
     },
     "execution_count": 5,
     "metadata": {},
     "output_type": "execute_result"
    }
   ],
   "source": [
    "deutsch.h(q[0])\n",
    "deutsch.h(q[1])"
   ]
  },
  {
   "cell_type": "code",
   "execution_count": 6,
   "metadata": {
    "colab": {
     "base_uri": "https://localhost:8080/",
     "height": 34
    },
    "colab_type": "code",
    "id": "5nk9lPFy0-0M",
    "outputId": "0cb7c74c-afe3-4f92-b365-d042657e676a"
   },
   "outputs": [
    {
     "data": {
      "text/plain": [
       "<qiskit.circuit.instructionset.InstructionSet at 0x1ebdac59f98>"
      ]
     },
     "execution_count": 6,
     "metadata": {},
     "output_type": "execute_result"
    }
   ],
   "source": [
    "deutsch.draw()\n",
    "deutsch.measure(q, c)"
   ]
  },
  {
   "cell_type": "code",
   "execution_count": 7,
   "metadata": {
    "colab": {
     "base_uri": "https://localhost:8080/",
     "height": 347
    },
    "colab_type": "code",
    "id": "xseid-Rs0-0O",
    "outputId": "954eabac-1797-4dd3-d3b7-6b569247d101"
   },
   "outputs": [
    {
     "data": {
      "image/png": "[encoded data removed]",
      "text/plain": [
       "<Figure size 504x360 with 1 Axes>"
      ]
     },
     "execution_count": 7,
     "metadata": {},
     "output_type": "execute_result"
    }
   ],
   "source": [
    "backend = Aer.get_backend('qasm_simulator')\n",
    "job_sim = execute(deutsch, backend)\n",
    "sim_result = job_sim.result()\n",
    "\n",
    "counts = sim_result.get_counts(deutsch)\n",
    "plot_histogram(counts, title='Deutsch-Jozsa State')\n"
   ]
  },
  {
   "cell_type": "markdown",
   "metadata": {
    "colab_type": "text",
    "id": "2a4gMB7p0-0Q"
   },
   "source": [
    "### Execução em uma máquina real\n",
    "\n",
    "Para execultar em uma máquina real apenas insira seu API_TOKEN da IBM abaixo:"
   ]
  },
  {
   "cell_type": "code",
   "execution_count": null,
   "metadata": {
    "colab": {},
    "colab_type": "code",
    "id": "8NemenE90-0R"
   },
   "outputs": [],
   "source": [
    "import getpass\n",
    "\n",
    "MY_API_TOKEN = getpass.getpass(\"Informe seu API_TOKEN: \")"
   ]
  },
  {
   "cell_type": "markdown",
   "metadata": {
    "colab_type": "text",
    "id": "hTcp1gr60-0T"
   },
   "source": [
    "Escolha um computador quântico operacional:"
   ]
  },
  {
   "cell_type": "code",
   "execution_count": null,
   "metadata": {
    "colab": {},
    "colab_type": "code",
    "id": "B2Htjxfh0-0T"
   },
   "outputs": [],
   "source": [
    "IBMQ.enable_account(MY_API_TOKEN)\n",
    "IBMQ.backends(operational=True)"
   ]
  },
  {
   "cell_type": "code",
   "execution_count": null,
   "metadata": {
    "colab": {},
    "colab_type": "code",
    "id": "KkoEN8OB0-0V"
   },
   "outputs": [],
   "source": [
    "backend = IBMQ.get_backend('ibmqx4')\n",
    "\n",
    "job_sim = execute(deutsch, backend)\n",
    "sim_result = job_sim.result()\n",
    "\n",
    "counts = sim_result.get_counts(deutsch)\n",
    "plot_histogram(counts, title='Deutsch-Jozsa State')\n"
   ]
  },
  {
   "cell_type": "markdown",
   "metadata": {
    "colab": {},
    "colab_type": "code",
    "id": "d849tJAr0-0X"
   },
   "source": [
    "### Fonte e mais informações: \n",
    "\n",
    "[IBMQ website!](https://quantum-computing.ibm.com/support/guides/quantum-algorithms)"
   ]
  },
  {
   "cell_type": "code",
   "execution_count": null,
   "metadata": {},
   "outputs": [],
   "source": []
  }
 ],
 "metadata": {
  "colab": {
   "name": "deutsch_jozsa.ipynb",
   "provenance": [],
   "version": "0.3.2"
  },
  "kernelspec": {
   "display_name": "Python 3",
   "language": "python",
   "name": "python3"
  },
  "language_info": {
   "codemirror_mode": {
    "name": "ipython",
    "version": 3
   },
   "file_extension": ".py",
   "mimetype": "text/x-python",
   "name": "python",
   "nbconvert_exporter": "python",
   "pygments_lexer": "ipython3",
   "version": "3.7.3"
  }
 },
 "nbformat": 4,
 "nbformat_minor": 1
}
