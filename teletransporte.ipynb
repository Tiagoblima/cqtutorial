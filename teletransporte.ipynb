{
 "cells": [
  {
   "cell_type": "markdown",
   "metadata": {},
   "source": [
    "## Teletransporte\n",
    "\n",
    "**Definição:** Teletransporte quântico é o processo pela qual um estado arbritário de qubits é transferido de uma localização para outra."
   ]
  },
  {
   "cell_type": "markdown",
   "metadata": {},
   "source": [
    "### Em que se basea: \n",
    "\n",
    "Baseado no teorema da não-clonagem de que move bits quânticos é possível, porém copia-los é impossível. O algoritmo de teletransporte vai trabalhar com o emaranhamento de dois qubits um utilizado por um lado da comunicação e o outro bit pelo outro lado. Neste caso chamaremos uma pessoa de Alice e outra de Bob.\n",
    "\n"
   ]
  },
  {
   "cell_type": "markdown",
   "metadata": {},
   "source": [
    "### Ferramentas necessárias: \n",
    "\n",
    "Para darmos procegimento a ideia de teletransportar informações através de bits quânticos, precisamos saber que mudanças de bases de qubits canonicais e não canonicais pode ser últil. No nosso caso uma utilizaremos uma base canonical com quatro dimensões. Como mostrado a seguir:\n",
    "\n",
    "**Base canonica:** $\\{|0_A0_B \\rangle, |0_A1_B\\rangle, |1_A0_B\\rangle, |1_A1_B\\rangle \\}$\n",
    "<br> Enquanto isso uma base não-canonica chamada **Bell basis** que consiste em 4 vetores:\n",
    " \n",
    " $|\\Psi+\\rangle = \\frac{|0_A1_B \\rangle + |1_A0_B\\rangle}{\\sqrt{2}}$ <br> \n",
    " $|\\Psi-\\rangle = \\frac{|0_A1_B \\rangle - |1_A0_B\\rangle}{\\sqrt{2}}$ <br> \n",
    " $|\\Phi+\\rangle = \\frac{|0_A0_B \\rangle + |1_A1_B\\rangle}{\\sqrt{2}}$ <br> \n",
    " $|\\Phi-\\rangle = \\frac{|0_A0_B \\rangle - |1_A1_B\\rangle}{\\sqrt{2}}$ <br> \n",
    " \n"
   ]
  },
  {
   "cell_type": "markdown",
   "metadata": {},
   "source": [
    " ### Como tudo funciona:\n",
    " \n",
    " Antes de tudo Alice possui um qubit $|\\psi\\rangle = \\alpha|0\\rangle + \\beta|1\\rangle$ a qual deseja teletransportar para Bob. \n",
    " \n",
    "  Então mais dois quibits emaranhados são colocados no sistema de forma que o estado inicial é composto por três qubits da seguinte forma: $|\\Psi\\rangle\\otimes|0\\rangle\\otimes|0\\rangle$ aplicando ao circuito\n",
    "  $(C_not\\otimes I)(H\\otimes I)$ afim de obtermos o estado $|\\Phi+\\rangle$ (ou qualquer outro estado vetor da base não-canonica de Bell a depender dos bits de entrada) para realizarmos a transmição do qubit de interesse.\n",
    " \n",
    "os bits de entrada e os elementos da base não-canonica de Bells que geram:\n",
    "\n",
    "$$|00\\rangle \\rightarrow |\\Phi+\\rangle, |01\\rangle \\rightarrow |\\Psi+\\rangle, |10\\rangle \\rightarrow |\\Phi-\\rangle,|11\\rangle \\rightarrow |\\Psi-\\rangle$$\n",
    "  "
   ]
  },
  {
   "cell_type": "markdown",
   "metadata": {},
   "source": [
    "Gerando a base não-canônica de Bell:"
   ]
  },
  {
   "cell_type": "markdown",
   "metadata": {},
   "source": [
    "$$|\\varphi_0\\rangle = |\\psi\\rangle\\otimes|0\\rangle\\otimes|0\\rangle = (\\alpha|0\\rangle + \\beta|1\\rangle)\\otimes|00\\rangle$$\n",
    "$$|\\varphi_1\\rangle = |\\psi\\rangle\\otimes\\frac{|0\\rangle + |1\\rangle}{\\sqrt{2}}\\otimes|0\\rangle$$\n",
    "$$|\\varphi_2\\rangle = |\\psi\\rangle\\otimes\\frac{|00\\rangle + |10\\rangle}{\\sqrt{2}} = |\\psi\\rangle\\otimes\\frac{|00\\rangle + |11\\rangle}{\\sqrt{2}} $$ \n",
    "$$|\\varphi_2\\rangle = \\frac{\\alpha|0\\rangle(|00\\rangle + |11\\rangle) + \\beta|1\\rangle(|00\\rangle + |11\\rangle)}{\\sqrt{2}} = |\\psi\\rangle\\otimes|\\Phi+\\rangle$$"
   ]
  },
  {
   "cell_type": "markdown",
   "metadata": {},
   "source": [
    "Dessa forma Alice controla os dois primeiros bits enquanto Bob apenas o último. A parti daí Alice usa o processo de decondificação dessa forma o qubit a ser transmitido e a metade emaranhada que ela possui podem ser combinadas. Para tal ela tem implementado o seguinte circuito quântico: $(C_not\\otimes I)$ seguido por $(H\\otimes I\\otimes I)$,\n",
    "sendo assim $(H\\otimes I\\otimes I)(C_not\\otimes I)(|\\psi\\rangle\\otimes|\\Phi+\\rangle)$"
   ]
  },
  {
   "cell_type": "markdown",
   "metadata": {},
   "source": [
    "\n",
    " Ao passar pelo circuito teremos:\n",
    "\n",
    "$$|\\varphi_3\\rangle = \\frac{\\alpha(|0\\rangle + |1\\rangle)(|00\\rangle + |11\\rangle) + \\beta(|0\\rangle - |1\\rangle)(|10\\rangle + |01\\rangle)}{2}$$\n",
    "$$|\\varphi_4\\rangle = \\frac{\\alpha|0\\rangle(|00\\rangle + |11\\rangle) + \\beta|1\\rangle(|10\\rangle + |01\\rangle)}{2}$$\n",
    "$$|\\varphi_4\\rangle = \\frac{\\alpha|000\\rangle + |011\\rangle + |100\\rangle + |111\\rangle + \\beta|010\\rangle + |001\\rangle + -|110\\rangle + |101\\rangle }{2}$$\n",
    "$$|\\varphi_4\\rangle = \\frac{|00\\rangle(\\alpha|0\\rangle + \\beta|1\\rangle) + |01\\rangle(\\beta|1\\rangle + \\alpha|0\\rangle) + |10\\rangle(\\alpha|0\\rangle - \\beta|1\\rangle) + |11\\rangle(-\\beta|0\\rangle + \\alpha|1\\rangle)}{2}$$"
   ]
  },
  {
   "attachments": {
    "image.png": {
     "image/png": "[encoded data removed]"
    }
   },
   "cell_type": "markdown",
   "metadata": {},
   "source": [
    "Circuito Completo:\n",
    "\n",
    "![image.png](attachment:image.png)"
   ]
  },
  {
   "cell_type": "markdown",
   "metadata": {},
   "source": [
    "Neste momento os dois qubits de Alice são medidos e então os três qubits colapsão para um das quatro possibilidades. Supondo que \n",
    "o bit colapsado seja $|10\\rangle$ temos que lidar com dois problemas:\n",
    "\n",
    "(a) Apesar de Alice saber o estado Bob não sabe. <br>\n",
    "(b) Bob $\\alpha|0\\rangle - \\beta|1\\rangle$, mas não o qubit desejado.<br>\n",
    "\n",
    "A fim de resolver este problema Alice envia uma copia de dois bits que usa essa informação para alcançar o estado desejado."
   ]
  },
  {
   "cell_type": "markdown",
   "metadata": {},
   "source": [
    "Rebendo $|01\\rangle$ então ele sabe o qubit está no estado:\n",
    "\n",
    "                                                \n",
    "$$                                   \n",
    "\\begin{equation*}\n",
    "\\alpha|0\\rangle - \\beta|1\\rangle =  \\begin{vmatrix}\n",
    "                                    \\alpha  \\\\\n",
    "                                    -\\beta   \\\\\n",
    "\\end{vmatrix}\n",
    "\\end{equation*};\n",
    "$$"
   ]
  },
  {
   "cell_type": "markdown",
   "metadata": {},
   "source": [
    "Após este vetor agir sobre a seguinte base \n",
    "$\n",
    "\\begin{vmatrix}\n",
    " 1  &  0 \\\\      \n",
    " 0  & -1 \\\\\n",
    "\\end{vmatrix}\n",
    "$ teremos:\n",
    "\n",
    "$\n",
    "\\begin{vmatrix}\n",
    " 1  &  0 \\\\      \n",
    " 0  & -1 \\\\\n",
    "\\end{vmatrix}\n",
    "$\n",
    "$\n",
    "\\begin{vmatrix}\n",
    "\\alpha  \\\\\n",
    "-\\beta   \\\\\n",
    "\\end{vmatrix}\n",
    "$\n",
    "$\n",
    "= \n",
    "\\begin{vmatrix}\n",
    "\\alpha  \\\\\n",
    "\\beta   \\\\\n",
    "\\end{vmatrix}\n",
    "= \n",
    "$\n",
    "$\\alpha|0\\rangle + \\beta|1\\rangle = |\\psi\\rangle$\n",
    "\n",
    "E agora Bob tem a informação que estava com Alice. <br>"
   ]
  },
  {
   "cell_type": "markdown",
   "metadata": {},
   "source": [
    "**Bit recebido:**\n",
    "1. $|00\\rangle$\n",
    "2. $|01\\rangle$\n",
    "3. $|10\\rangle$\n",
    "4. $|11\\rangle$\n",
    "<br>\n",
    "<br>\n",
    "\n",
    "**Matriz de reconstrução de Bob:** \n",
    "<br>\n",
    "<br>\n",
    "1.\n",
    "$\n",
    "\\begin{vmatrix}\n",
    " 0  &  1 \\\\                \n",
    " 1  &  0 \\\\\n",
    "\\end{vmatrix}\n",
    "$\n",
    "<br>\n",
    "2.\n",
    "$\n",
    "\\begin{vmatrix}\n",
    " 0  &  1 \\\\      \n",
    " 1  &  0 \\\\\n",
    "\\end{vmatrix}\n",
    "$\n",
    "<br>\n",
    "3.\n",
    "$\n",
    "\\begin{vmatrix}\n",
    " 1  &   0 \\\\      \n",
    " 0  &  -1 \\\\\n",
    "\\end{vmatrix}\n",
    "$\n",
    "<br>\n",
    "4.\n",
    "$\n",
    "\\begin{vmatrix}\n",
    " 0  &  1 \\\\      \n",
    "-1  &  0 \\\\\n",
    "\\end{vmatrix}\n",
    "$\n"
   ]
  },
  {
   "cell_type": "markdown",
   "metadata": {},
   "source": [
    "\n",
    "Pontos a serem observados:\n",
    "\n",
    "1. Alice não possui mais o estado $|\\psi\\rangle$.\n",
    "2. Os bits clássicos navegam em um canal clássico e é impossível que Bob chegue a informação sem que este bits sejam transmitidos.\n",
    "3. $\\alpha$ e $\\beta$ são números complexos arbritarios que satisfazem a equação $|\\alpha|^{2} + |\\beta|^{2} = 1$ podendo ter uma expansão infinito decimal porém toda essa informação. Contudo essa informação é passada na forma de qubit que quando colapsa quando passado para Bob e inutil quando medido.\n"
   ]
  },
  {
   "cell_type": "markdown",
   "metadata": {},
   "source": [
    "### Simulação do circuito:"
   ]
  },
  {
   "cell_type": "code",
   "execution_count": 2,
   "metadata": {},
   "outputs": [],
   "source": [
    "import qiskit as qkit \n",
    "import time\n",
    "from qiskit import Aer\n",
    "from qiskit.tools.visualization import circuit_drawer\n",
    "from qiskit.tools.visualization import plot_histogram\n",
    "\n",
    "\n"
   ]
  },
  {
   "cell_type": "markdown",
   "metadata": {},
   "source": [
    "Iniciando os registradores quânticos:"
   ]
  },
  {
   "cell_type": "code",
   "execution_count": 3,
   "metadata": {},
   "outputs": [],
   "source": [
    "rq = qkit.QuantumRegister(size=3)\n",
    "rc = qkit.ClassicalRegister(size=2)"
   ]
  },
  {
   "cell_type": "markdown",
   "metadata": {},
   "source": [
    "Implementando o Circuito Quântico. O qubit a ser teletransportado se encontra no registra quântico na posição rq[0]."
   ]
  },
  {
   "cell_type": "markdown",
   "metadata": {},
   "source": [
    "Inicializando o circuito e criando o estado de Bell $|\\Phi+\\rangle$"
   ]
  },
  {
   "cell_type": "code",
   "execution_count": null,
   "metadata": {},
   "outputs": [],
   "source": [
    "teleport = qkit.QuantumCircuit(rq, rc)\n",
    "teleport.h(rq[1])\n",
    "teleport.cx(rq[1], rq[2])"
   ]
  },
  {
   "cell_type": "markdown",
   "metadata": {},
   "source": [
    "Combinando a parte a ser transmitida com a parte emaranhada de Alice"
   ]
  },
  {
   "cell_type": "code",
   "execution_count": 4,
   "metadata": {
    "scrolled": true
   },
   "outputs": [
    {
     "name": "stderr",
     "output_type": "stream",
     "text": [
      "WARNING: Unable to compile latex. Is `pdflatex` installed? Skipping latex circuit drawing...\n"
     ]
    },
    {
     "data": {
      "image/png": "[encoded data removed]",
      "text/plain": [
       "<Figure size 541.8x319.06 with 1 Axes>"
      ]
     },
     "metadata": {},
     "output_type": "display_data"
    }
   ],
   "source": [
    "\n",
    "\n",
    "teleport.cx(rq[0], rq[1])\n",
    "teleport.h(rq[0])\n",
    "teleport.measure(rq[0], rc[0])\n",
    "teleport.measure(rq[1], rc[1])\n",
    "circuit_drawer(teleport)"
   ]
  },
  {
   "cell_type": "markdown",
   "metadata": {},
   "source": [
    "### Simulando o Circuito em um computador clássico"
   ]
  },
  {
   "cell_type": "code",
   "execution_count": 5,
   "metadata": {},
   "outputs": [
    {
     "name": "stdout",
     "output_type": "stream",
     "text": [
      "<bound method AerJob.status of <qiskit.backends.aer.aerjob.AerJob object at 0x00000221B8C4CB70>>\n",
      "Faltam 0 segundos\n",
      "<bound method AerJob.status of <qiskit.backends.aer.aerjob.AerJob object at 0x00000221B8C4CB70>>\n",
      "Faltam 1 segundos\n",
      "<bound method AerJob.status of <qiskit.backends.aer.aerjob.AerJob object at 0x00000221B8C4CB70>>\n",
      "Faltam 2 segundos\n",
      "<bound method AerJob.status of <qiskit.backends.aer.aerjob.AerJob object at 0x00000221B8C4CB70>>\n",
      "Faltam 3 segundos\n",
      "<bound method AerJob.status of <qiskit.backends.aer.aerjob.AerJob object at 0x00000221B8C4CB70>>\n",
      "Faltam 4 segundos\n",
      "<bound method AerJob.status of <qiskit.backends.aer.aerjob.AerJob object at 0x00000221B8C4CB70>>\n",
      "Faltam 5 segundos\n",
      "<bound method AerJob.status of <qiskit.backends.aer.aerjob.AerJob object at 0x00000221B8C4CB70>>\n",
      "Faltam 6 segundos\n",
      "<bound method AerJob.status of <qiskit.backends.aer.aerjob.AerJob object at 0x00000221B8C4CB70>>\n",
      "Faltam 7 segundos\n",
      "<bound method AerJob.status of <qiskit.backends.aer.aerjob.AerJob object at 0x00000221B8C4CB70>>\n",
      "Faltam 8 segundos\n",
      "<bound method AerJob.status of <qiskit.backends.aer.aerjob.AerJob object at 0x00000221B8C4CB70>>\n",
      "Faltam 9 segundos\n",
      "<bound method AerJob.status of <qiskit.backends.aer.aerjob.AerJob object at 0x00000221B8C4CB70>>\n",
      "Faltam 10 segundos\n",
      "<bound method AerJob.status of <qiskit.backends.aer.aerjob.AerJob object at 0x00000221B8C4CB70>>\n",
      "Faltam 11 segundos\n",
      "<bound method AerJob.status of <qiskit.backends.aer.aerjob.AerJob object at 0x00000221B8C4CB70>>\n",
      "Faltam 12 segundos\n",
      "<bound method AerJob.status of <qiskit.backends.aer.aerjob.AerJob object at 0x00000221B8C4CB70>>\n",
      "Faltam 13 segundos\n",
      "<bound method AerJob.status of <qiskit.backends.aer.aerjob.AerJob object at 0x00000221B8C4CB70>>\n",
      "Faltam 14 segundos\n",
      "<bound method AerJob.status of <qiskit.backends.aer.aerjob.AerJob object at 0x00000221B8C4CB70>>\n",
      "Faltam 15 segundos\n",
      "<bound method AerJob.status of <qiskit.backends.aer.aerjob.AerJob object at 0x00000221B8C4CB70>>\n",
      "Faltam 16 segundos\n",
      "<bound method AerJob.status of <qiskit.backends.aer.aerjob.AerJob object at 0x00000221B8C4CB70>>\n",
      "Faltam 17 segundos\n",
      "<bound method AerJob.status of <qiskit.backends.aer.aerjob.AerJob object at 0x00000221B8C4CB70>>\n",
      "Faltam 18 segundos\n",
      "<bound method AerJob.status of <qiskit.backends.aer.aerjob.AerJob object at 0x00000221B8C4CB70>>\n",
      "Faltam 19 segundos\n",
      "<bound method AerJob.status of <qiskit.backends.aer.aerjob.AerJob object at 0x00000221B8C4CB70>>\n",
      "Faltam 20 segundos\n",
      "<bound method AerJob.status of <qiskit.backends.aer.aerjob.AerJob object at 0x00000221B8C4CB70>>\n",
      "Faltam 21 segundos\n",
      "<bound method AerJob.status of <qiskit.backends.aer.aerjob.AerJob object at 0x00000221B8C4CB70>>\n",
      "Faltam 22 segundos\n",
      "<bound method AerJob.status of <qiskit.backends.aer.aerjob.AerJob object at 0x00000221B8C4CB70>>\n",
      "Faltam 23 segundos\n",
      "<bound method AerJob.status of <qiskit.backends.aer.aerjob.AerJob object at 0x00000221B8C4CB70>>\n",
      "Faltam 24 segundos\n",
      "<bound method AerJob.status of <qiskit.backends.aer.aerjob.AerJob object at 0x00000221B8C4CB70>>\n",
      "Faltam 25 segundos\n",
      "<bound method AerJob.status of <qiskit.backends.aer.aerjob.AerJob object at 0x00000221B8C4CB70>>\n",
      "Faltam 26 segundos\n",
      "<bound method AerJob.status of <qiskit.backends.aer.aerjob.AerJob object at 0x00000221B8C4CB70>>\n",
      "Faltam 27 segundos\n",
      "<bound method AerJob.status of <qiskit.backends.aer.aerjob.AerJob object at 0x00000221B8C4CB70>>\n",
      "Faltam 28 segundos\n",
      "<bound method AerJob.status of <qiskit.backends.aer.aerjob.AerJob object at 0x00000221B8C4CB70>>\n",
      "Faltam 29 segundos\n",
      "<bound method AerJob.status of <qiskit.backends.aer.aerjob.AerJob object at 0x00000221B8C4CB70>>\n",
      "Faltam 30 segundos\n",
      "<bound method AerJob.status of <qiskit.backends.aer.aerjob.AerJob object at 0x00000221B8C4CB70>>\n",
      "Faltam 31 segundos\n",
      "<bound method AerJob.status of <qiskit.backends.aer.aerjob.AerJob object at 0x00000221B8C4CB70>>\n",
      "Faltam 32 segundos\n",
      "<bound method AerJob.status of <qiskit.backends.aer.aerjob.AerJob object at 0x00000221B8C4CB70>>\n",
      "Faltam 33 segundos\n",
      "<bound method AerJob.status of <qiskit.backends.aer.aerjob.AerJob object at 0x00000221B8C4CB70>>\n",
      "Faltam 34 segundos\n",
      "<bound method AerJob.status of <qiskit.backends.aer.aerjob.AerJob object at 0x00000221B8C4CB70>>\n",
      "Faltam 35 segundos\n",
      "<bound method AerJob.status of <qiskit.backends.aer.aerjob.AerJob object at 0x00000221B8C4CB70>>\n",
      "Faltam 36 segundos\n",
      "<bound method AerJob.status of <qiskit.backends.aer.aerjob.AerJob object at 0x00000221B8C4CB70>>\n",
      "Faltam 37 segundos\n",
      "<bound method AerJob.status of <qiskit.backends.aer.aerjob.AerJob object at 0x00000221B8C4CB70>>\n",
      "Faltam 38 segundos\n",
      "<bound method AerJob.status of <qiskit.backends.aer.aerjob.AerJob object at 0x00000221B8C4CB70>>\n",
      "Faltam 39 segundos\n",
      "<bound method AerJob.status of <qiskit.backends.aer.aerjob.AerJob object at 0x00000221B8C4CB70>>\n",
      "Faltam 40 segundos\n",
      "<bound method AerJob.status of <qiskit.backends.aer.aerjob.AerJob object at 0x00000221B8C4CB70>>\n",
      "Faltam 41 segundos\n",
      "<bound method AerJob.status of <qiskit.backends.aer.aerjob.AerJob object at 0x00000221B8C4CB70>>\n",
      "Faltam 42 segundos\n",
      "<bound method AerJob.status of <qiskit.backends.aer.aerjob.AerJob object at 0x00000221B8C4CB70>>\n",
      "Faltam 43 segundos\n",
      "<bound method AerJob.status of <qiskit.backends.aer.aerjob.AerJob object at 0x00000221B8C4CB70>>\n",
      "Faltam 44 segundos\n",
      "<bound method AerJob.status of <qiskit.backends.aer.aerjob.AerJob object at 0x00000221B8C4CB70>>\n",
      "Faltam 45 segundos\n",
      "<bound method AerJob.status of <qiskit.backends.aer.aerjob.AerJob object at 0x00000221B8C4CB70>>\n",
      "Faltam 46 segundos\n",
      "<bound method AerJob.status of <qiskit.backends.aer.aerjob.AerJob object at 0x00000221B8C4CB70>>\n",
      "Faltam 47 segundos\n",
      "<bound method AerJob.status of <qiskit.backends.aer.aerjob.AerJob object at 0x00000221B8C4CB70>>\n",
      "Faltam 48 segundos\n",
      "<bound method AerJob.status of <qiskit.backends.aer.aerjob.AerJob object at 0x00000221B8C4CB70>>\n",
      "Faltam 49 segundos\n"
     ]
    },
    {
     "data": {
      "image/png": "[encoded data removed]",
      "text/plain": [
       "<Figure size 432x288 with 1 Axes>"
      ]
     },
     "metadata": {},
     "output_type": "display_data"
    }
   ],
   "source": [
    "\n",
    "shots = 50\n",
    "job = qkit.execute(teleport, backend= Aer.get_backend(\"qasm_simulator_py\"), shots=shots)\n",
    "k =0 \n",
    "wait_time = 1 \n",
    "while k < shots:\n",
    "    print(job.status)\n",
    "    print(\"Faltam {0} segundos\".format(k))\n",
    "    k = k + wait_time\n",
    "    time.sleep(wait_time)\n",
    "    \n",
    "results_sim = job.result()\n",
    "outputs_sim = results_sim.get_counts()\n",
    "\n",
    "plot_histogram(outputs_sim)"
   ]
  },
  {
   "cell_type": "markdown",
   "metadata": {},
   "source": [
    "Fonte:\n",
    "Quantum Computing for Computer Scientists, Noson F. Yanofsky\n",
    "\n",
    "Rieffel, Eleanor G., and Wolfgang H. Polak. Quantum Computing : A Gentle Introduction, edited by William Gropp, and Ewing Lusk, MIT Press, 2011. ProQuest Ebook Central, https://ebookcentral.proquest.com/lib/ufrpe-ebooks/detail.action?docID=3339229. "
   ]
  },
  {
   "cell_type": "code",
   "execution_count": null,
   "metadata": {},
   "outputs": [],
   "source": []
  }
 ],
 "metadata": {
  "kernelspec": {
   "display_name": "Python 3",
   "language": "python",
   "name": "python3"
  },
  "language_info": {
   "codemirror_mode": {
    "name": "ipython",
    "version": 3
   },
   "file_extension": ".py",
   "mimetype": "text/x-python",
   "name": "python",
   "nbconvert_exporter": "python",
   "pygments_lexer": "ipython3",
   "version": "3.6.5"
  }
 },
 "nbformat": 4,
 "nbformat_minor": 2
}
