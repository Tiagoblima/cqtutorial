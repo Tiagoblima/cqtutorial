{
 "cells": [
  {
   "cell_type": "markdown",
   "metadata": {},
   "source": [
    "## Teletransporte\n",
    "\n",
    "**Definição:** Teletransporte quântico é o processo pela qualum estado arbritário de qubits é transferido de uma localização para outra."
   ]
  },
  {
   "cell_type": "markdown",
   "metadata": {},
   "source": [
    "### Em que se basea: \n",
    "\n",
    "Baseado no teorema da não-clonagem de que move bits quânticos é possível, porém copia-los é impossível. O algoritmo de teletransporte vai trabalhar com o emaranhamento de dois qubits um utilizado por um lado da comunicação e o outro bit pelo outro lado. Neste caso chamaremos uma pessoa de Alice e outra de Bob.\n",
    "\n"
   ]
  },
  {
   "cell_type": "markdown",
   "metadata": {},
   "source": [
    "### Ferramentas necessárias: \n",
    "\n",
    "Para darmos procegimento a ideia de teletransportar informações através de bits quânticos, precisamos saber que mudanças de bases de qubits canonicais e não canonicais pode ser últil. No nosso caso uma utilizaremos uma base canonical com quatro dimensões. Como mostrado a seguir:\n",
    "\n",
    "**Base canonica:** $\\{|0_A0_B \\rangle, |0_A1_B\\rangle, |1_A0_B\\rangle, |1_A1_B\\rangle \\}$\n",
    "<br> Enquanto isso uma base canonica é a chamada **Bell basis** que consiste em 4 vetores:\n",
    " \n",
    " $|\\Psi+\\rangle = \\frac{|0_A1_B \\rangle + |1_A0_B\\rangle}{\\sqrt{2}}$ <br> \n",
    " $|\\Psi-\\rangle = \\frac{|0_A1_B \\rangle - |1_A0_B\\rangle}{\\sqrt{2}}$ <br> \n",
    " $|\\Phi+\\rangle = \\frac{|0_A0_B \\rangle + |1_A1_B\\rangle}{\\sqrt{2}}$ <br> \n",
    " $|\\Phi-\\rangle = \\frac{|0_A0_B \\rangle - |1_A1_B\\rangle}{\\sqrt{2}}$ <br> \n",
    " \n"
   ]
  },
  {
   "cell_type": "markdown",
   "metadata": {},
   "source": [
    " ### Como tudo funciona:\n",
    " \n",
    " Antes de tudo Alice possui um qubit $|\\Psi\\rangle = \\alpha|0\\rangle + \\beta|1\\rangle$ a qual deseja teletransportar para Bob. \n",
    " \n",
    "  Então são formados dois quibits emaranhados como $|\\Psi\\rangle\\otimes|\\Phi+\\rangle$ da seguinte forma: $|\\psi\\rangle\\otimes|\\Phi+\\rangle$ de forma que o estado inicial é composto por três qubits da seguinte forma: \n",
    " $$|\\psi_0\\rangle = |\\Psi\\rangle\\otimes|\\Phi+\\rangle = (\\alpha|0\\rangle + \\beta|1\\rangle)(\\frac{|00\\rangle + |11\\rangle}{\\sqrt{2}})$$\n",
    "$$|\\psi_0\\rangle = \\alpha|0\\rangle(\\frac{|00\\rangle + |11\\rangle}{\\sqrt{2}}) + \\beta|1\\rangle(\\frac{|00\\rangle + |11\\rangle}{\\sqrt{2}})$$\n",
    "$$|\\psi_0\\rangle = \\frac{\\alpha|000\\rangle + \\beta|100\\rangle + \\alpha|011\\rangle + \\beta|111\\rangle}{\\sqrt{2}}$$\n",
    "\n",
    "Dessa forma Alice controla os dois primeiros bits enquanto Bob apenas o último. A parti daí Alice usa o processo de decondificação dessa forma o qubit a ser transmitido e a metade emaranhada que ela possui podem ser combinadas. Para tal ela tem implementado o seguinte circuito quântico: $(C_not\\otimes I)$ seguido por $(H\\otimes I\\otimes I)$.\n"
   ]
  },
  {
   "cell_type": "code",
   "execution_count": null,
   "metadata": {},
   "outputs": [],
   "source": []
  }
 ],
 "metadata": {
  "kernelspec": {
   "display_name": "Python 3",
   "language": "python",
   "name": "python3"
  },
  "language_info": {
   "codemirror_mode": {
    "name": "ipython",
    "version": 3
   },
   "file_extension": ".py",
   "mimetype": "text/x-python",
   "name": "python",
   "nbconvert_exporter": "python",
   "pygments_lexer": "ipython3",
   "version": "3.6.5"
  }
 },
 "nbformat": 4,
 "nbformat_minor": 2
}
