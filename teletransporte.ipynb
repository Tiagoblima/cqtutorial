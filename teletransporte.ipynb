
##Teletransporte

**Definição:** Teletransporte quântico é o processo pela qualum estado arbritário de qubits é transferido de uma localização para outra.

### Em que se basea: 

Baseado no teorema da não-clonagem de que move bits quânticos é possível, porém copia-los é impossível. O algoritmo de teletransporte vai trabalhar com o emaranhamento de dois qubits um utilizado por um lado da comunicação e o outro bit pelo outro lado. Neste caso chamaremos uma pessoa de Alice e outra de Bob.



### Ferramentas necessárias: 

Para darmos procegimento a ideia de teletransportar informações através de bits quânticos, precisamos saber que mudanças de bases de qubits canonicais e não canonicais pode ser últil. No nosso caso uma utilizaremos uma base canonical com quatro dimensões. Como mostrado a seguir:

**Base canonica:** $\{|0_A0_B \rangle, |0_A1_B\rangle, |1_A0_B\rangle, |1_A1_B\rangle \}$
<br> Enquanto isso uma base canonica é a chamada **Bell basis** que consiste em 4 vetores:
 
 $|\Psi+\rangle = \frac{|0_A1_B \rangle + |1_A0_B\rangle}{\sqrt{2}}$ <br> 
 $|\Psi-\rangle = \frac{|0_A1_B \rangle - |1_A0_B\rangle}{\sqrt{2}}$ <br> 
 $|\Phi+\rangle = \frac{|0_A0_B \rangle + |1_A1_B\rangle}{\sqrt{2}}$ <br> 
 $|\Phi-\rangle = \frac{|0_A0_B \rangle - |1_A1_B\rangle}{\sqrt{2}}$ <br> 
 
 ### Como tudo funciona:
 
 Antes de tudo Alice possui um qubit $|\psi\rangle = \alpha|0\rangle + \beta|1\rangle$ a qual deseja teletransportar para Bob. 
 
 Então são formados dois quibits emaranhados como $|\Phi+\rangle$ da seguinte forma:
 
 $|\varphi\rangle = |\psi\rangle\otimes|0\rangle\otimes|0\rangle$
