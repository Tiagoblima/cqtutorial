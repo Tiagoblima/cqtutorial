{
 "cells": [
  {
   "cell_type": "code",
   "execution_count": 113,
   "metadata": {},
   "outputs": [],
   "source": [
    "%matplotlib inline\n",
    "# Importing standard Qiskit libraries and configuring account\n",
    "import numpy as np\n",
    "from qiskit import QuantumRegister, ClassicalRegister\n",
    "from qiskit import QuantumCircuit, execute, Aer, IBMQ\n",
    "from qiskit.compiler import transpile, assemble\n",
    "from qiskit.tools.jupyter import *\n",
    "from qiskit.visualization import *\n",
    "# Loading your IBM Q account(s)\n",
    "#provider = IBMQ.load_account()"
   ]
  },
  {
   "cell_type": "markdown",
   "metadata": {},
   "source": [
    "# Algoritmo de Grover\n",
    "- Introdução\n",
    "- Preparação dos estados\n",
    "- Aplicando Oracle\n",
    "- Inversão sobre a média\n",
    "- Circuito Quântico\n",
    "- Exercícios"
   ]
  },
  {
   "cell_type": "markdown",
   "metadata": {},
   "source": [
    "## Observações dos autores\n",
    "\n",
    "- Recomendamos que antes de prosseguir para o algoritmo de Grover, o leitor esteja bem familiarizado com os algoritmos de Deutsch e a sua extensão Deutsch-Jozsa. Pois muitos dos conceitos já vistos lá são reutilizados neste módulo.\n",
    " \n",
    "\n"
   ]
  },
  {
   "cell_type": "markdown",
   "metadata": {},
   "source": [
    "## Introdução \n",
    "\n",
    " Dado um conjunto desordenado de elementos de tamanho $n$, como fazer para achar um elemento específico dentro do conjunto? A solução mais simples que não envolve a ordenação do conjunto implica a verificação de cada elemento do array até que o elemento desejado seja encontrado. No pior caso, seria necessário fazer $n$ requisições. O algoritmo proposto por Luv Grover tem a capacidade de fazê-lo em $\\sqrt{N}$ vezes. \n",
    " "
   ]
  },
  {
   "cell_type": "markdown",
   "metadata": {},
   "source": [
    "## Preparação dos estados\n",
    "   Considere o operador unitário $U_f$ que implementa a função (ou oracle) $f\\{0,1\\}^n \\mapsto \\{0,1\\}$. Seja $\\tilde{x}$ a cadeia binária a qual deseja-se achar. Onde $f(x) = 1$ se $x = \\tilde{x}$ e $f(x) = 0$ se $ x \\neq \\tilde{x}$. A ação de $U_f$ nos estados dos qubits ocorreria da seguinte forma:\n",
    "   $$\n",
    "   U_f |x\\rangle |y\\rangle = |x\\rangle |y  \\oplus f(x) \\rangle \n",
    "   $$\n",
    "   \n",
    "   O algoritmo em si faz uso de dois registradores quânticos, o primeiro trata-se de um registrador de $n$ qubits o qual é a entrada one será feita a busca o segundo registrador quântico trata-se do qubit auxiliar (ou ancilla).\n",
    "   Mas antes de entrar nos detalhes do algoritmo é necessário fazer algumas observações, relaciondas a um passo importante na evolução do sistema chamado de _inversão de fase_.\n",
    "   \n",
    "   \n",
    "   Considere uma entrada qualquer $|x\\rangle$. O estado inicial do sistema se encontraria como a seguir:\n",
    "   $$\n",
    "     |x\\rangle\\left( \\frac{|0\\rangle - |1\\rangle}{\\sqrt{2}} \\right)\n",
    "   $$\n",
    "   \n",
    "   Distribuindo e aplicando $U_f$\n",
    "  \n",
    "   $$\n",
    "       \\frac{1}{\\sqrt{2}}\\left(|x\\rangle|0\\rangle - |x\\rangle|1\\rangle\\right) = U_f\\left[ \\frac{1}{\\sqrt{2}}\\left(|x\\rangle|0\\rangle - |x\\rangle|1\\rangle\\right) \\right]\n",
    "   $$\n",
    "   $$\n",
    "      \\frac{1}{\\sqrt{2}}\\left(|x\\rangle|0\\oplus f(x) \\rangle - |x\\rangle|1\\oplus f(x)\\rangle\\right)       \n",
    "   $$\n",
    "   \n",
    "   Sabendo que $\\oplus$ o qual trata-se de uma soma módulo 2, opera como um $XOR$ nos estados dos qubits. É possivel verificar que a operação $|1  \\oplus f(x)\\rangle$ trata-se da negação de $f(x)$. \n",
    "   Ou seja:\n",
    "   $$\n",
    "   |x\\rangle \\left(\\frac{| f(x) \\rangle - | \\bar{f(x)}\\rangle }{\\sqrt{2}}\\right)\n",
    "   $$\n",
    "   Levando este resultado em consideração, então a fase do sistema (ou sinal da equação) é determinada pelo resultado da função, matematicamente falando:\n",
    "   $$\n",
    "   (-1)^{f(x)}|x\\rangle \\left(\\frac{| 0 \\rangle - | 1\\rangle }{\\sqrt{2}}\\right)\n",
    "   $$\n",
    "      \n",
    "   Por simplicidade, vamos considerar que a entrada é uma superposição de todos os estados possíveis. Como se aplicássemos portas Hadamard do tipo $H^{\\otimes n}$ a um registrador $|0\\rangle^{\\otimes n}$ . E que o estado inicial da ancilla enconta-se como em $\\frac{|0\\rangle - |1\\rangle}{\\sqrt{2}}$.\n",
    "   \n",
    "   Para um sistema cuja entrada tem três qubits, o estado se encontraria como a seguir:\n",
    "   $$\n",
    "   \\frac{1}{2}\\left(|00\\rangle + |01\\rangle + |10\\rangle + |11\\rangle\\right)\\left(\\frac{| 0 \\rangle - | 1\\rangle }{\\sqrt{2}}\\right)\n",
    "   $$   \n",
    "   Utilizando a API _Qiskit_ disponibilizada pela IBM a preparação do estado ficaria da seguinte forma:"
   ]
  },
  {
   "cell_type": "code",
   "execution_count": 114,
   "metadata": {},
   "outputs": [
    {
     "data": {
      "text/html": [
       "<pre style=\"word-wrap: normal;white-space: pre;line-height: 15px;\">        ┌───┐     \n",
       "q_0: |0>┤ H ├─────\n",
       "        ├───┤     \n",
       "q_1: |0>┤ H ├─────\n",
       "        ├───┤┌───┐\n",
       "q_2: |0>┤ X ├┤ H ├\n",
       "        └───┘└───┘\n",
       " c_0: 0 ══════════\n",
       "                  \n",
       " c_1: 0 ══════════\n",
       "                  </pre>"
      ],
      "text/plain": [
       "<qiskit.visualization.text.TextDrawing at 0x2ba090f95c0>"
      ]
     },
     "execution_count": 114,
     "metadata": {},
     "output_type": "execute_result"
    }
   ],
   "source": [
    "qub = QuantumRegister(3,'q')\n",
    "cb = ClassicalRegister(2,'c')\n",
    "qc = QuantumCircuit(qub,cb)\n",
    "qc.h(qub[0])\n",
    "qc.h(qub[1])\n",
    "#Preparando a ancila\n",
    "qc.x(qub[2])\n",
    "qc.h(qub[2])\n",
    "#Drawing circuits\n",
    "qc.draw()"
   ]
  },
  {
   "cell_type": "markdown",
   "metadata": {},
   "source": [
    "## Aplicando o Oracle\n",
    " Agora seja $f$ uma função que \"busca\" pela cadeia $11$, então ao aplicar a inversão de fase o estado resultante ficaria da seguinte forma:\n",
    "   \n",
    "   $$\n",
    "   \\frac{1}{2}\\left(|00\\rangle + |01\\rangle + |10\\rangle - |11\\rangle\\right)\\left(\\frac{| 0 \\rangle - | 1\\rangle }{\\sqrt{2}}\\right)\n",
    "   $$\n",
    "  \n",
    "  Explicando de forma simplificada, é como se o estado $11$ estivesse sendo marcado para que a busca pudesse ser efetuada.\n",
    "  Um operador que já implementa esta função é o operador $Toffoli$ o qual já se encontra implementado na API do _Qiskit_."
   ]
  },
  {
   "cell_type": "code",
   "execution_count": 115,
   "metadata": {},
   "outputs": [
    {
     "data": {
      "text/html": [
       "<pre style=\"word-wrap: normal;white-space: pre;line-height: 15px;\">        ┌───┐          \n",
       "q_0: |0>┤ H ├───────■──\n",
       "        ├───┤       │  \n",
       "q_1: |0>┤ H ├───────■──\n",
       "        ├───┤┌───┐┌─┴─┐\n",
       "q_2: |0>┤ X ├┤ H ├┤ X ├\n",
       "        └───┘└───┘└───┘\n",
       " c_0: 0 ═══════════════\n",
       "                       \n",
       " c_1: 0 ═══════════════\n",
       "                       </pre>"
      ],
      "text/plain": [
       "<qiskit.visualization.text.TextDrawing at 0x2ba7ff70400>"
      ]
     },
     "execution_count": 115,
     "metadata": {},
     "output_type": "execute_result"
    }
   ],
   "source": [
    "qc.ccx(qub[0], qub[1], qub[2])\n",
    "qc.draw()"
   ]
  },
  {
   "cell_type": "markdown",
   "metadata": {},
   "source": [
    " Para fins de demonstração efetuaremos uma medição nos qubits para verificar as probabilidades do sistema somente com a inversão de fase."
   ]
  },
  {
   "cell_type": "code",
   "execution_count": 116,
   "metadata": {},
   "outputs": [
    {
     "data": {
      "text/html": [
       "<pre style=\"word-wrap: normal;white-space: pre;line-height: 15px;\">        ┌───┐          ┌─┐   \n",
       "q_0: |0>┤ H ├───────■──┤M├───\n",
       "        ├───┤       │  └╥┘┌─┐\n",
       "q_1: |0>┤ H ├───────■───╫─┤M├\n",
       "        ├───┤┌───┐┌─┴─┐ ║ └╥┘\n",
       "q_2: |0>┤ X ├┤ H ├┤ X ├─╫──╫─\n",
       "        └───┘└───┘└───┘ ║  ║ \n",
       " c_0: 0 ════════════════╩══╬═\n",
       "                           ║ \n",
       " c_1: 0 ═══════════════════╩═\n",
       "                             </pre>"
      ],
      "text/plain": [
       "<qiskit.visualization.text.TextDrawing at 0x2ba090feda0>"
      ]
     },
     "execution_count": 116,
     "metadata": {},
     "output_type": "execute_result"
    }
   ],
   "source": [
    "qc.measure(qub[0],cb[0])\n",
    "qc.measure(qub[1],cb[1])\n",
    "qc.draw()"
   ]
  },
  {
   "cell_type": "markdown",
   "metadata": {},
   "source": [
    "Considerando este reusltado podemos fazer as seguintes observações: Se aplicarmos uma medição nos qubits superiores qualquer um dos estados poderia ser retornado com mesma probabilidade dado que $\\left| \\frac{1}{2} \\right|^2 = \\left| - \\frac{1}{2} \\right|^2 $ o que não é muito interessante para quem faz a busca.\n",
    "   Por isso que o algoritmo de Grover faz uso de um passo muito importante para resolver este problema chamado de _inversão sobre a média_. "
   ]
  },
  {
   "cell_type": "code",
   "execution_count": 117,
   "metadata": {},
   "outputs": [
    {
     "data": {
      "image/png": "[encoded data removed]",
      "text/plain": [
       "<Figure size 504x360 with 1 Axes>"
      ]
     },
     "execution_count": 117,
     "metadata": {},
     "output_type": "execute_result"
    }
   ],
   "source": [
    "# Select the QasmSimulator from the Aer provider\n",
    "simulator = Aer.get_backend('qasm_simulator')\n",
    "\n",
    "# Execute and get counts\n",
    "result = execute(qc, simulator).result()\n",
    "counts = result.get_counts(qc)\n",
    "plot_histogram(counts, title='O indíce procurado')"
   ]
  },
  {
   "cell_type": "markdown",
   "metadata": {},
   "source": [
    "## Inversão sobre a média\n",
    "\n",
    "   Considere a o seguinte vetor de tamanho $5$ com os seguintes valores : $\\left[4,5,10,3,3\\right]$. Sabendo que média desses números é $5$, como inverter seus valores em relação à média? Primeiramente deve-se calcular a distância entre o valor e a média, matemáticamente isto é feito subtraindo a média $m$ e o valor $v$: $m-v$ . Em seguinda pegamos o resultado e o somamos à média mais uma vez: $m - v + m$ ou $ -v + 2m$. \n",
    "    \n",
    "   Agora considere que ao invés de calcular a inversão sobre a média de cada valor individualmente, queiramos calcular a inversão sobre a média dos valores no vetor utilizando operações matriciais. Como fazê-lo?\n",
    "   \n",
    "   Sabendo que para calcular a média soma-se todos os valores e o resultado é dividido pelo número de valores somados. Ou seja $\\frac{1}{n}\\sum_{i=1}^{n} x_i$ ,  para $n$ o número de valores somados e $x_i$ o $i$-ésimo valor. Agora considere o coeficiente $\\frac{1}{n}$. Retomando o uso do vetor $\\left[4,5,10,3,3\\right]$ podemos calcular a média desse vetor aplicando a seguinte operação: \n",
    "   $$\\left[\\begin{array}{ccccc}\n",
    "   \\frac{1}{5} & \\frac{1}{5} & \\frac{1}{5} & \\frac{1}{5} & \\frac{1}{5} \\\\\n",
    "   \\frac{1}{5} & \\frac{1}{5} & \\frac{1}{5} & \\frac{1}{5} & \\frac{1}{5} \\\\\n",
    "   \\frac{1}{5} & \\frac{1}{5} & \\frac{1}{5} & \\frac{1}{5} & \\frac{1}{5} \\\\\n",
    "   \\frac{1}{5} & \\frac{1}{5} & \\frac{1}{5} & \\frac{1}{5} & \\frac{1}{5} \\\\\n",
    "   \\frac{1}{5} & \\frac{1}{5} & \\frac{1}{5} & \\frac{1}{5} & \\frac{1}{5} \\\\\n",
    "   \\end{array}\\right]\n",
    "   \\left[\\begin{array}{c}\n",
    "   4 \\\\\n",
    "   5 \\\\\n",
    "   10\\\\\n",
    "   3 \\\\\n",
    "   3 \\\\\n",
    "   \\end{array}\\right] \n",
    "   = \n",
    "   \\left[\\begin{array}{c}\n",
    "   5 \\\\\n",
    "   5 \\\\\n",
    "   5\\\\\n",
    "   5 \\\\\n",
    "   5 \\\\\n",
    "   \\end{array}\\right]$$\n",
    "   \n",
    "   As células da primeira matriz estão todas com valor $\\frac{1}{5}$ pois trata-se do coeficiente utilizado no somatório da média. Por simplicidade chamaremos a matriz cujas todas células estão com valor $\\frac{1}{5}$ de $A$. \n",
    "   \n",
    "   Desse modo, matricialmente falando. A operação de inversão sobre a média de um vetor $V$ ocorre da seguinte forma:\n",
    "   $$\n",
    "   \\bar{V} = -V + 2AV \n",
    "   $$\n",
    "   Evidenciando o vetor $V$ obtemos: $(-I + 2A)V$. Desse modo, o operador de inversão sobre a média é obtido a partir da operação matricial: \n",
    "   $$\n",
    "   -I + 2A\n",
    "   $$\n",
    "   \n",
    "   ### Implementando inversão sobre a média\n",
    "   \n",
    "   Sob a perspectiva de computação quântica este operador pode ser obtido a partir da seguinte fórmula: \n",
    "   \n",
    "   $$\n",
    "   H^{\\otimes n}\\left(2|0\\rangle\\langle0| - I \\right)H^{\\otimes n}\n",
    "   $$\n",
    "   \n",
    "   Considerando a entrada do sistema $|\\psi\\rangle$, a qual será efetuada a busca, como de uma superposição de todos os estados possíveis. Ou seja :   $H^{\\otimes n} | 0 \\rangle^{\\otimes n} = |\\psi\\rangle$.\n",
    "   E Considerando tanto $|0\\rangle$ como $\\langle 0|$ como vetores de dimensão $n$ obtemos:\n",
    "   \n",
    "   $$\n",
    "   2|\\psi\\rangle\\langle\\psi | - I\n",
    "   $$\n",
    "   \n",
    "   Do ponto de vista de implementação o passo a passo para aplicar a inversão sobre a média no sistema seria da seguinte forma: \n",
    "   1. Aplicar transformações de Hadamard $H^{\\otimes n}$\n",
    "   2. Aplicar mudança de fase condicional nos estados, com toda a base computacional recebendo -1 exceto o estado $|0\\rangle^{\\otimes n}$  <br>\n",
    "$|x\\rangle \\rightarrow -(-1)^{\\delta_x0}|x\\rangle$ <br>\n",
    "   3. Reaplicar transformações de Hadamard $H^{\\otimes n}$\n",
    "   \n",
    "   A aplicação do operador $U_f$(ou oracle)junto com os três passos $1,2$ e $3$ compõe a interação de Grover ou _Grover's interation_.\n",
    "  O algoritmo tem que ser executado até $\\sqrt{N}$ vezes, mais especificamente a aplicação da interação de Grover no sistema. "
   ]
  },
  {
   "cell_type": "markdown",
   "metadata": {},
   "source": [
    "# Circuito Quântico"
   ]
  },
  {
   "cell_type": "code",
   "execution_count": 118,
   "metadata": {},
   "outputs": [
    {
     "data": {
      "text/html": [
       "<pre style=\"word-wrap: normal;white-space: pre;line-height: 15px;\">        ┌───┐          ┌───┐┌───┐          ┌───┐┌───┐     \n",
       "q_0: |0>┤ H ├──■────■──┤ H ├┤ X ├───────■──┤ X ├┤ H ├─────\n",
       "        ├───┤┌─┴─┐  │  ├───┤├───┤┌───┐┌─┴─┐├───┤├───┤┌───┐\n",
       "q_1: |0>┤ H ├┤ X ├──■──┤ H ├┤ X ├┤ H ├┤ X ├┤ H ├┤ X ├┤ H ├\n",
       "        ├───┤├───┤┌─┴─┐├───┤└───┘└───┘└───┘└───┘└───┘└───┘\n",
       "q_2: |0>┤ X ├┤ H ├┤ X ├┤ H ├──────────────────────────────\n",
       "        └───┘└───┘└───┘└───┘                              \n",
       " c_0: 0 ══════════════════════════════════════════════════\n",
       "                                                          \n",
       " c_1: 0 ══════════════════════════════════════════════════\n",
       "                                                          </pre>"
      ],
      "text/plain": [
       "<qiskit.visualization.text.TextDrawing at 0x2ba0a17c630>"
      ]
     },
     "execution_count": 118,
     "metadata": {},
     "output_type": "execute_result"
    }
   ],
   "source": [
    "#Inicialização dos estados\n",
    "qub = QuantumRegister(3,'q')\n",
    "cb = ClassicalRegister(2,'c')\n",
    "qc = QuantumCircuit(qub,cb)\n",
    "qc.h(qub[0])\n",
    "qc.h(qub[1])\n",
    "#Preparando a ancila\n",
    "qc.x(qub[2])\n",
    "qc.h(qub[2])\n",
    "\n",
    "#Interação de grover quantidade de interações incorreta.\n",
    "#for i in range(int(np.ceil(np.sqrt(4)))):\n",
    "\n",
    "# Oracle\n",
    "\n",
    "qc.ccx(qub[0], qub[1], qub[2])\n",
    "\n",
    "#---Hadamard\n",
    "qc.h(qub[0])\n",
    "qc.h(qub[1])\n",
    "\n",
    "#----Troca de fase\n",
    "qc.x(qub[0])\n",
    "qc.x(qub[1])\n",
    "\n",
    "qc.h(qub[1])\n",
    "\n",
    "qc.cx(qub[0], qub[1])\n",
    "\n",
    "qc.h(qub[1])\n",
    "\n",
    "qc.x(qub[0])\n",
    "qc.x(qub[1])  \n",
    "\n",
    "#--- Hadarmard\n",
    "qc.h(qub[0])\n",
    "qc.h(qub[1])\n",
    "qc.h(qub[2])\n",
    "\n",
    "qc.draw()"
   ]
  },
  {
   "cell_type": "markdown",
   "metadata": {},
   "source": [
    "Após a última aplicação podemos efetuar a medição dos qubits da entrada, ou seja  efetuar a medição nos qubits $0$ e $1$. \n",
    "O circuito quântico resultante ficaria então da seguinte forma:"
   ]
  },
  {
   "cell_type": "code",
   "execution_count": 119,
   "metadata": {},
   "outputs": [
    {
     "data": {
      "text/html": [
       "<pre style=\"word-wrap: normal;white-space: pre;line-height: 15px;\">        ┌───┐          ┌───┐┌───┐          ┌───┐┌───┐┌─┐        \n",
       "q_0: |0>┤ H ├──■────■──┤ H ├┤ X ├───────■──┤ X ├┤ H ├┤M├────────\n",
       "        ├───┤┌─┴─┐  │  ├───┤├───┤┌───┐┌─┴─┐├───┤├───┤└╥┘┌───┐┌─┐\n",
       "q_1: |0>┤ H ├┤ X ├──■──┤ H ├┤ X ├┤ H ├┤ X ├┤ H ├┤ X ├─╫─┤ H ├┤M├\n",
       "        ├───┤├───┤┌─┴─┐├───┤└───┘└───┘└───┘└───┘└───┘ ║ └───┘└╥┘\n",
       "q_2: |0>┤ X ├┤ H ├┤ X ├┤ H ├──────────────────────────╫───────╫─\n",
       "        └───┘└───┘└───┘└───┘                          ║       ║ \n",
       " c_0: 0 ══════════════════════════════════════════════╩═══════╬═\n",
       "                                                              ║ \n",
       " c_1: 0 ══════════════════════════════════════════════════════╩═\n",
       "                                                                </pre>"
      ],
      "text/plain": [
       "<qiskit.visualization.text.TextDrawing at 0x2ba090f95f8>"
      ]
     },
     "execution_count": 119,
     "metadata": {},
     "output_type": "execute_result"
    }
   ],
   "source": [
    "qc.measure(qub[0],cb[0])\n",
    "qc.measure(qub[1],cb[1])\n",
    "qc.draw()"
   ]
  },
  {
   "cell_type": "code",
   "execution_count": 120,
   "metadata": {},
   "outputs": [
    {
     "data": {
      "image/png": "[encoded data removed]",
      "text/plain": [
       "<Figure size 504x360 with 1 Axes>"
      ]
     },
     "execution_count": 120,
     "metadata": {},
     "output_type": "execute_result"
    }
   ],
   "source": [
    "# Select the QasmSimulator from the Aer provider\n",
    "simulator = Aer.get_backend('qasm_simulator')\n",
    "\n",
    "# Execute and get counts\n",
    "result = execute(qc, simulator).result()\n",
    "counts = result.get_counts(qc)\n",
    "plot_histogram(counts, title='O indíce procurado')"
   ]
  },
  {
   "cell_type": "markdown",
   "metadata": {},
   "source": [
    "## Exercício\n",
    "\n",
    " 1. Calcule os valores invertidos sobre a média de cada valor do vetor $\\left[4,5,10,3,3\\right]$\n",
    " \n",
    " 2. Mostre que $A^2 = A$\n",
    " \n",
    " 3. Mostre que $-I + 2A$ é um operador unitário, ou seja que $(-I + 2A)(-I + 2A)^{\\dagger} = I$. \n",
    " \n",
    " 4. O que acontece se repetirmos o exemplo porém aplicarmos _inversão de fase_ e inversão sobre a média quatro vezes?\n",
    " \n",
    " 5. Fazer o exemplo para uma entrada de três qubits onde $f$ \"escolhe\" a cadeia 001\n",
    " 6. Crie um circuito quântico utilizando um oracle diferente. Dica:Verifique a ação de $U_f$ sobre os estados da base ( incluindo a ancila )"
   ]
  }
 ],
 "metadata": {
  "kernelspec": {
   "display_name": "Python 3",
   "language": "python",
   "name": "python3"
  },
  "language_info": {
   "codemirror_mode": {
    "name": "ipython",
    "version": 3
   },
   "file_extension": ".py",
   "mimetype": "text/x-python",
   "name": "python",
   "nbconvert_exporter": "python",
   "pygments_lexer": "ipython3",
   "version": "3.7.3"
  }
 },
 "nbformat": 4,
 "nbformat_minor": 2
}
