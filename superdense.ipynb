{
 "cells": [
  {
   "cell_type": "markdown",
   "metadata": {},
   "source": [
    "# Superdense\n",
    "\n",
    "**Definição:** Dense code usa um qubit compartilhado com um pars EPR para decondificar e transmitir dois bits clássicos.\n",
    "\n",
    "\n"
   ]
  },
  {
   "cell_type": "markdown",
   "metadata": {},
   "source": [
    " *Obs.:* EPR ou  Einstein–Podolsky–Rosen paradox (EPR paradox) é um paradoxo que avalia que em certas circunstancias a medição do estado de A pode determinar com um precisão arbritária o estado de outro qubit B, mesmo a longas distâncias desde que estejam emaranhados.<br> Fonte: https://phys.org/news/2018-04-einstein-podolsky-rosen-paradox-many-particle.html"
   ]
  },
  {
   "cell_type": "markdown",
   "metadata": {},
   "source": [
    "### Como funciona?\n",
    "\n",
    "Agora iremos supor que Alice e Bob querem se comunicar e que Alice tem o primeiro qubit e Bob o segundo.\n",
    "\n",
    "<br>1.Inicialmente irimos ter dois bits emaranhados:\n",
    "\n",
    "$|\\psi_0\\rangle = \\frac{1}{\\sqrt{2}}(|0_A0_B\\rangle + |1_A1_B)$\n",
    "\n",
    "Sabendo disso, devemos ter em mente que Alice só pode transforma o qubit dela e Bob só poderá transformar o qubit dele. Isso poderá ser feito da seguinte forma: Se alice tem n qubits e Bob m qubits, temos que a transformação realizada por alice será $I^{m}\\otimes U$, onde U é a matrix de transformação para n qubits, enquanto a de Bob $I^n\\otimes U$ onde U é a matrix de transformação para m qubits."
   ]
  },
  {
   "cell_type": "markdown",
   "metadata": {},
   "source": [
    "### O que é feito?\n",
    "\n",
    "\n",
    "Alice que transmiti dois bits que representam valores entre 0 e 3 para isso ele realiza uma transformação no seu qubit $|\\psi_0\\rangle$.\n",
    "\n",
    "Valor______Transformação_______Novo Estado\n",
    "<br>\n",
    "\n",
    "\n",
    "0 || $|\\psi_0\\rangle = (I\\otimes I)|\\psi_0\\rangle$   ||  $\\frac{1}{\\sqrt{2}}(|00\\rangle + |11\\rangle)$ <br>\n",
    "1 || $|\\psi_0\\rangle = (X \\otimes I)|\\psi_0\\rangle$  ||  $\\frac{1}{\\sqrt{2}}(|10\\rangle - |01\\rangle)$  <br>\n",
    "2 || $|\\psi_0\\rangle = (Z \\otimes I)|\\psi_0\\rangle$  ||  $\\frac{1}{\\sqrt{2}}(|00\\rangle - |11\\rangle)$  <br>\n",
    "3 || $|\\psi_0\\rangle = (Y\\otimes I)|\\psi_0\\rangle$   ||  $\\frac{1}{\\sqrt{2}}(-|10\\rangle + |01\\rangle)$ <br>\n",
    "\n",
    "Depois disso Bob usa C_not e nos dois bits emaranhados e depois apliaca Hadamard: \n",
    "<br>\n",
    "$ \\begin{cases}\n",
    "\\frac{1}{\\sqrt{2}}(|00\\rangle + |11\\rangle) \\\\\n",
    "\\frac{1}{\\sqrt{2}}(|10\\rangle - |01\\rangle) \\\\   \n",
    "\\frac{1}{\\sqrt{2}}(|00\\rangle - |11\\rangle) \\\\ \n",
    "\\frac{1}{\\sqrt{2}}(-|10\\rangle + |01\\rangle) \\\\  \n",
    "\\end{cases} $\n",
    "\n",
    "$C_not$\n",
    "$\\rightarrow$\n",
    "\n",
    "$ \\begin{cases}\n",
    "\\frac{1}{\\sqrt{2}}(|00\\rangle + |10\\rangle) \\\\\n",
    "\\frac{1}{\\sqrt{2}}(|11\\rangle - |01\\rangle) \\\\ \n",
    "\\frac{1}{\\sqrt{2}}(|00\\rangle - |10\\rangle) \\\\ \n",
    "\\frac{1}{\\sqrt{2}}(-|11\\rangle + |01\\rangle) \\\\  \n",
    "\\end{cases} $\n",
    "=\n",
    "$ \\begin{cases}\n",
    "\\frac{1}{\\sqrt{2}}(|0\\rangle + |1\\rangle)\\otimes|0\\rangle \\\\\n",
    "\\frac{1}{\\sqrt{2}}(|1\\rangle - |0\\rangle)\\otimes|1\\rangle \\\\ \n",
    "\\frac{1}{\\sqrt{2}}(|0\\rangle - |1\\rangle)\\otimes|0\\rangle \\\\ \n",
    "\\frac{1}{\\sqrt{2}}(-|1\\rangle + |0\\rangle)\\otimes|1\\rangle \\\\  \n",
    "\\end{cases} $\n",
    "\n",
    "$H\\otimes I$ \n",
    "$\\rightarrow$\n",
    "\n",
    "$ \\begin{cases}\n",
    " |00\\rangle \\\\\n",
    " |01\\rangle \\\\ \n",
    " |10\\rangle \\\\ \n",
    " |11\\rangle \\\\  \n",
    "\\end{cases} $\n",
    "\n",
    "\n",
    "Ao final do processo Bob terá os mesmo bits que foram enviados por Alice."
   ]
  },
  {
   "cell_type": "markdown",
   "metadata": {},
   "source": [
    "### Exemplo: Supondo que o bit represente o valor 1"
   ]
  },
  {
   "cell_type": "code",
   "execution_count": 2,
   "metadata": {},
   "outputs": [],
   "source": [
    "import qiskit as qkit \n",
    "import time\n",
    "from qiskit import Aer\n",
    "from qiskit.tools.visualization import circuit_drawer\n",
    "from qiskit.tools.visualization import plot_histogram\n"
   ]
  },
  {
   "cell_type": "markdown",
   "metadata": {},
   "source": [
    "Iniciando os registradores quânticos e clássicos"
   ]
  },
  {
   "cell_type": "code",
   "execution_count": 3,
   "metadata": {},
   "outputs": [],
   "source": [
    "rq = qkit.QuantumRegister(size=2)\n",
    "rc = qkit.ClassicalRegister(size=2)"
   ]
  },
  {
   "cell_type": "code",
   "execution_count": 4,
   "metadata": {},
   "outputs": [
    {
     "data": {
      "image/png": "[encoded data removed]",
      "text/plain": [
       "<PIL.Image.Image image mode=RGB size=545x182 at 0x2875EEDD278>"
      ]
     },
     "execution_count": 4,
     "metadata": {},
     "output_type": "execute_result"
    }
   ],
   "source": [
    "superdense = qkit.QuantumCircuit(rq, rc)\n",
    "\n",
    "\n",
    "superdense.h(rq[0])\n",
    "superdense.cx(rq[0], rq[1])\n",
    "\n",
    "superdense.x(rq[0])\n",
    "\n",
    "superdense.cx(rq[0], rq[1])\n",
    "superdense.h(rq[0])\n",
    "superdense.measure(rq[0], rc[0])\n",
    "superdense.measure(rq[1], rc[1])\n",
    "circuit_drawer(superdense)\n"
   ]
  },
  {
   "cell_type": "code",
   "execution_count": 5,
   "metadata": {},
   "outputs": [
    {
     "name": "stdout",
     "output_type": "stream",
     "text": [
      "<bound method AerJob.status of <qiskit.backends.aer.aerjob.AerJob object at 0x000002875EE5A3C8>>\n",
      "Faltam 0 segundos\n",
      "<bound method AerJob.status of <qiskit.backends.aer.aerjob.AerJob object at 0x000002875EE5A3C8>>\n",
      "Faltam 1 segundos\n",
      "<bound method AerJob.status of <qiskit.backends.aer.aerjob.AerJob object at 0x000002875EE5A3C8>>\n",
      "Faltam 2 segundos\n",
      "<bound method AerJob.status of <qiskit.backends.aer.aerjob.AerJob object at 0x000002875EE5A3C8>>\n",
      "Faltam 3 segundos\n",
      "<bound method AerJob.status of <qiskit.backends.aer.aerjob.AerJob object at 0x000002875EE5A3C8>>\n",
      "Faltam 4 segundos\n",
      "<bound method AerJob.status of <qiskit.backends.aer.aerjob.AerJob object at 0x000002875EE5A3C8>>\n",
      "Faltam 5 segundos\n",
      "<bound method AerJob.status of <qiskit.backends.aer.aerjob.AerJob object at 0x000002875EE5A3C8>>\n",
      "Faltam 6 segundos\n",
      "<bound method AerJob.status of <qiskit.backends.aer.aerjob.AerJob object at 0x000002875EE5A3C8>>\n",
      "Faltam 7 segundos\n",
      "<bound method AerJob.status of <qiskit.backends.aer.aerjob.AerJob object at 0x000002875EE5A3C8>>\n",
      "Faltam 8 segundos\n",
      "<bound method AerJob.status of <qiskit.backends.aer.aerjob.AerJob object at 0x000002875EE5A3C8>>\n",
      "Faltam 9 segundos\n",
      "<bound method AerJob.status of <qiskit.backends.aer.aerjob.AerJob object at 0x000002875EE5A3C8>>\n",
      "Faltam 10 segundos\n",
      "<bound method AerJob.status of <qiskit.backends.aer.aerjob.AerJob object at 0x000002875EE5A3C8>>\n",
      "Faltam 11 segundos\n",
      "<bound method AerJob.status of <qiskit.backends.aer.aerjob.AerJob object at 0x000002875EE5A3C8>>\n",
      "Faltam 12 segundos\n",
      "<bound method AerJob.status of <qiskit.backends.aer.aerjob.AerJob object at 0x000002875EE5A3C8>>\n",
      "Faltam 13 segundos\n",
      "<bound method AerJob.status of <qiskit.backends.aer.aerjob.AerJob object at 0x000002875EE5A3C8>>\n",
      "Faltam 14 segundos\n",
      "<bound method AerJob.status of <qiskit.backends.aer.aerjob.AerJob object at 0x000002875EE5A3C8>>\n",
      "Faltam 15 segundos\n",
      "<bound method AerJob.status of <qiskit.backends.aer.aerjob.AerJob object at 0x000002875EE5A3C8>>\n",
      "Faltam 16 segundos\n",
      "<bound method AerJob.status of <qiskit.backends.aer.aerjob.AerJob object at 0x000002875EE5A3C8>>\n",
      "Faltam 17 segundos\n",
      "<bound method AerJob.status of <qiskit.backends.aer.aerjob.AerJob object at 0x000002875EE5A3C8>>\n",
      "Faltam 18 segundos\n",
      "<bound method AerJob.status of <qiskit.backends.aer.aerjob.AerJob object at 0x000002875EE5A3C8>>\n",
      "Faltam 19 segundos\n",
      "<bound method AerJob.status of <qiskit.backends.aer.aerjob.AerJob object at 0x000002875EE5A3C8>>\n",
      "Faltam 20 segundos\n",
      "<bound method AerJob.status of <qiskit.backends.aer.aerjob.AerJob object at 0x000002875EE5A3C8>>\n",
      "Faltam 21 segundos\n",
      "<bound method AerJob.status of <qiskit.backends.aer.aerjob.AerJob object at 0x000002875EE5A3C8>>\n",
      "Faltam 22 segundos\n",
      "<bound method AerJob.status of <qiskit.backends.aer.aerjob.AerJob object at 0x000002875EE5A3C8>>\n",
      "Faltam 23 segundos\n",
      "<bound method AerJob.status of <qiskit.backends.aer.aerjob.AerJob object at 0x000002875EE5A3C8>>\n",
      "Faltam 24 segundos\n",
      "<bound method AerJob.status of <qiskit.backends.aer.aerjob.AerJob object at 0x000002875EE5A3C8>>\n",
      "Faltam 25 segundos\n",
      "<bound method AerJob.status of <qiskit.backends.aer.aerjob.AerJob object at 0x000002875EE5A3C8>>\n",
      "Faltam 26 segundos\n",
      "<bound method AerJob.status of <qiskit.backends.aer.aerjob.AerJob object at 0x000002875EE5A3C8>>\n",
      "Faltam 27 segundos\n",
      "<bound method AerJob.status of <qiskit.backends.aer.aerjob.AerJob object at 0x000002875EE5A3C8>>\n",
      "Faltam 28 segundos\n",
      "<bound method AerJob.status of <qiskit.backends.aer.aerjob.AerJob object at 0x000002875EE5A3C8>>\n",
      "Faltam 29 segundos\n",
      "<bound method AerJob.status of <qiskit.backends.aer.aerjob.AerJob object at 0x000002875EE5A3C8>>\n",
      "Faltam 30 segundos\n",
      "<bound method AerJob.status of <qiskit.backends.aer.aerjob.AerJob object at 0x000002875EE5A3C8>>\n",
      "Faltam 31 segundos\n",
      "<bound method AerJob.status of <qiskit.backends.aer.aerjob.AerJob object at 0x000002875EE5A3C8>>\n",
      "Faltam 32 segundos\n",
      "<bound method AerJob.status of <qiskit.backends.aer.aerjob.AerJob object at 0x000002875EE5A3C8>>\n",
      "Faltam 33 segundos\n",
      "<bound method AerJob.status of <qiskit.backends.aer.aerjob.AerJob object at 0x000002875EE5A3C8>>\n",
      "Faltam 34 segundos\n",
      "<bound method AerJob.status of <qiskit.backends.aer.aerjob.AerJob object at 0x000002875EE5A3C8>>\n",
      "Faltam 35 segundos\n",
      "<bound method AerJob.status of <qiskit.backends.aer.aerjob.AerJob object at 0x000002875EE5A3C8>>\n",
      "Faltam 36 segundos\n",
      "<bound method AerJob.status of <qiskit.backends.aer.aerjob.AerJob object at 0x000002875EE5A3C8>>\n",
      "Faltam 37 segundos\n",
      "<bound method AerJob.status of <qiskit.backends.aer.aerjob.AerJob object at 0x000002875EE5A3C8>>\n",
      "Faltam 38 segundos\n",
      "<bound method AerJob.status of <qiskit.backends.aer.aerjob.AerJob object at 0x000002875EE5A3C8>>\n",
      "Faltam 39 segundos\n",
      "<bound method AerJob.status of <qiskit.backends.aer.aerjob.AerJob object at 0x000002875EE5A3C8>>\n",
      "Faltam 40 segundos\n",
      "<bound method AerJob.status of <qiskit.backends.aer.aerjob.AerJob object at 0x000002875EE5A3C8>>\n",
      "Faltam 41 segundos\n",
      "<bound method AerJob.status of <qiskit.backends.aer.aerjob.AerJob object at 0x000002875EE5A3C8>>\n",
      "Faltam 42 segundos\n",
      "<bound method AerJob.status of <qiskit.backends.aer.aerjob.AerJob object at 0x000002875EE5A3C8>>\n",
      "Faltam 43 segundos\n",
      "<bound method AerJob.status of <qiskit.backends.aer.aerjob.AerJob object at 0x000002875EE5A3C8>>\n",
      "Faltam 44 segundos\n",
      "<bound method AerJob.status of <qiskit.backends.aer.aerjob.AerJob object at 0x000002875EE5A3C8>>\n",
      "Faltam 45 segundos\n",
      "<bound method AerJob.status of <qiskit.backends.aer.aerjob.AerJob object at 0x000002875EE5A3C8>>\n",
      "Faltam 46 segundos\n",
      "<bound method AerJob.status of <qiskit.backends.aer.aerjob.AerJob object at 0x000002875EE5A3C8>>\n",
      "Faltam 47 segundos\n",
      "<bound method AerJob.status of <qiskit.backends.aer.aerjob.AerJob object at 0x000002875EE5A3C8>>\n",
      "Faltam 48 segundos\n",
      "<bound method AerJob.status of <qiskit.backends.aer.aerjob.AerJob object at 0x000002875EE5A3C8>>\n",
      "Faltam 49 segundos\n"
     ]
    },
    {
     "data": {
      "image/png": "[encoded data removed]",
      "text/plain": [
       "<Figure size 432x288 with 1 Axes>"
      ]
     },
     "metadata": {},
     "output_type": "display_data"
    }
   ],
   "source": [
    "\n",
    "shots = 50\n",
    "job = qkit.execute(superdense, backend= Aer.get_backend(\"qasm_simulator_py\"), shots=shots)\n",
    "k =0 \n",
    "wait_time = 1 \n",
    "while k < shots:\n",
    "    print(job.status)\n",
    "    print(\"Faltam {0} segundos\".format(k))\n",
    "    k = k + wait_time\n",
    "    time.sleep(wait_time)\n",
    "    \n",
    "results_sim = job.result()\n",
    "outputs_sim = results_sim.get_counts()\n",
    "\n",
    "plot_histogram(outputs_sim)"
   ]
  },
  {
   "cell_type": "code",
   "execution_count": null,
   "metadata": {},
   "outputs": [],
   "source": []
  }
 ],
 "metadata": {
  "kernelspec": {
   "display_name": "Python 3",
   "language": "python",
   "name": "python3"
  },
  "language_info": {
   "codemirror_mode": {
    "name": "ipython",
    "version": 3
   },
   "file_extension": ".py",
   "mimetype": "text/x-python",
   "name": "python",
   "nbconvert_exporter": "python",
   "pygments_lexer": "ipython3",
   "version": "3.6.5"
  }
 },
 "nbformat": 4,
 "nbformat_minor": 2
}
